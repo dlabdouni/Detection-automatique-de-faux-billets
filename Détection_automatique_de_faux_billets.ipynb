{
 "cells": [
  {
   "cell_type": "markdown",
   "id": "db56bfe4",
   "metadata": {
    "toc": true
   },
   "source": [
    "<h1>Table des matières<span class=\"tocSkip\"></span></h1>\n",
    "<div class=\"toc\"><ul class=\"toc-item\"><li><span><a href=\"#Pre-processing/Traitement-des-valeurs-manquantes\" data-toc-modified-id=\"Pre-processing/Traitement-des-valeurs-manquantes-1\"><span class=\"toc-item-num\">1&nbsp;&nbsp;</span>Pre-processing/Traitement des valeurs manquantes</a></span><ul class=\"toc-item\"><li><span><a href=\"#Significativité--des-variables\" data-toc-modified-id=\"Significativité--des-variables-1.1\"><span class=\"toc-item-num\">1.1&nbsp;&nbsp;</span>Significativité  des variables</a></span></li><li><span><a href=\"#Séparer-les-valeurs-manquantes\" data-toc-modified-id=\"Séparer-les-valeurs-manquantes-1.2\"><span class=\"toc-item-num\">1.2&nbsp;&nbsp;</span>Séparer les valeurs manquantes</a></span></li><li><span><a href=\"#Supprimer-les-valeurs-manquantes-du-jeu-de-données-data_RL-et-prendre-ce-(nouveau)-sous-ensemble-pour-entrainer-les-données\" data-toc-modified-id=\"Supprimer-les-valeurs-manquantes-du-jeu-de-données-data_RL-et-prendre-ce-(nouveau)-sous-ensemble-pour-entrainer-les-données-1.3\"><span class=\"toc-item-num\">1.3&nbsp;&nbsp;</span>Supprimer les valeurs manquantes du jeu de données data_RL et prendre ce (nouveau) sous-ensemble pour entrainer les données</a></span></li><li><span><a href=\"#Créer-X-et-y-depuis-le-sous-ensemble\" data-toc-modified-id=\"Créer-X-et-y-depuis-le-sous-ensemble-1.4\"><span class=\"toc-item-num\">1.4&nbsp;&nbsp;</span>Créer X et y depuis le sous-ensemble</a></span></li><li><span><a href=\"#Construire-le-modèle\" data-toc-modified-id=\"Construire-le-modèle-1.5\"><span class=\"toc-item-num\">1.5&nbsp;&nbsp;</span>Construire le modèle</a></span></li><li><span><a href=\"#Application-du-modèle-et-prédiction-des-valeurs-manquantes-+-évaluation-du-modèle\" data-toc-modified-id=\"Application-du-modèle-et-prédiction-des-valeurs-manquantes-+-évaluation-du-modèle-1.6\"><span class=\"toc-item-num\">1.6&nbsp;&nbsp;</span>Application du modèle et prédiction des valeurs manquantes + évaluation du modèle</a></span></li><li><span><a href=\"#Quelques-méthodes-pour-détecter-les-valeurs-atypiques-et/ou-influentes\" data-toc-modified-id=\"Quelques-méthodes-pour-détecter-les-valeurs-atypiques-et/ou-influentes-1.7\"><span class=\"toc-item-num\">1.7&nbsp;&nbsp;</span>Quelques méthodes pour détecter les valeurs atypiques et/ou influentes</a></span><ul class=\"toc-item\"><li><span><a href=\"#Calculez-les-leviers\" data-toc-modified-id=\"Calculez-les-leviers-1.7.1\"><span class=\"toc-item-num\">1.7.1&nbsp;&nbsp;</span>Calculez les leviers</a></span></li><li><span><a href=\"#Calculez-les-résidus-studentisés\" data-toc-modified-id=\"Calculez-les-résidus-studentisés-1.7.2\"><span class=\"toc-item-num\">1.7.2&nbsp;&nbsp;</span>Calculez les résidus studentisés</a></span></li><li><span><a href=\"#Déterminez-la-distance-de-Cook\" data-toc-modified-id=\"Déterminez-la-distance-de-Cook-1.7.3\"><span class=\"toc-item-num\">1.7.3&nbsp;&nbsp;</span>Déterminez la distance de Cook</a></span></li></ul></li><li><span><a href=\"#Hypothéses-de-validité-pour-la-régression-linéaire\" data-toc-modified-id=\"Hypothéses-de-validité-pour-la-régression-linéaire-1.8\"><span class=\"toc-item-num\">1.8&nbsp;&nbsp;</span>Hypothéses de validité pour la régression linéaire</a></span><ul class=\"toc-item\"><li><span><a href=\"#Vérifier-la-colinéarité-des-variables\" data-toc-modified-id=\"Vérifier-la-colinéarité-des-variables-1.8.1\"><span class=\"toc-item-num\">1.8.1&nbsp;&nbsp;</span>Vérifier la colinéarité des variables</a></span></li><li><span><a href=\"#Testez-l’homoscédasticité\" data-toc-modified-id=\"Testez-l’homoscédasticité-1.8.2\"><span class=\"toc-item-num\">1.8.2&nbsp;&nbsp;</span>Testez l’homoscédasticité</a></span></li><li><span><a href=\"#Testez-la-normalité-des-résidus\" data-toc-modified-id=\"Testez-la-normalité-des-résidus-1.8.3\"><span class=\"toc-item-num\">1.8.3&nbsp;&nbsp;</span>Testez la normalité des résidus</a></span></li></ul></li><li><span><a href=\"#Remplacement-des-valeurs-manquantes-par-les-valeurs-prédites\" data-toc-modified-id=\"Remplacement-des-valeurs-manquantes-par-les-valeurs-prédites-1.9\"><span class=\"toc-item-num\">1.9&nbsp;&nbsp;</span>Remplacement des valeurs manquantes par les valeurs prédites</a></span></li><li><span><a href=\"#Analyse-descriptive\" data-toc-modified-id=\"Analyse-descriptive-1.10\"><span class=\"toc-item-num\">1.10&nbsp;&nbsp;</span>Analyse descriptive</a></span></li></ul></li><li><span><a href=\"#Classification/Régression-logistique\" data-toc-modified-id=\"Classification/Régression-logistique-2\"><span class=\"toc-item-num\">2&nbsp;&nbsp;</span>Classification/Régression logistique</a></span><ul class=\"toc-item\"><li><span><a href=\"#Significativité--des-variables\" data-toc-modified-id=\"Significativité--des-variables-2.1\"><span class=\"toc-item-num\">2.1&nbsp;&nbsp;</span>Significativité  des variables</a></span></li><li><span><a href=\"#Mise-en-place-du-modèle\" data-toc-modified-id=\"Mise-en-place-du-modèle-2.2\"><span class=\"toc-item-num\">2.2&nbsp;&nbsp;</span>Mise en place du modèle</a></span></li><li><span><a href=\"#Evaluation-du-modèle-et-Matrice-de-confusion\" data-toc-modified-id=\"Evaluation-du-modèle-et-Matrice-de-confusion-2.3\"><span class=\"toc-item-num\">2.3&nbsp;&nbsp;</span>Evaluation du modèle et Matrice de confusion</a></span></li><li><span><a href=\"#Test-de-déploiement-(Application-du-modèle-sur-un-fichier-distinct)-&amp;-résultats\" data-toc-modified-id=\"Test-de-déploiement-(Application-du-modèle-sur-un-fichier-distinct)-&amp;-résultats-2.4\"><span class=\"toc-item-num\">2.4&nbsp;&nbsp;</span>Test de déploiement (Application du modèle sur un fichier distinct) &amp; résultats</a></span></li></ul></li><li><span><a href=\"#Clustering/Kmeans\" data-toc-modified-id=\"Clustering/Kmeans-3\"><span class=\"toc-item-num\">3&nbsp;&nbsp;</span>Clustering/Kmeans</a></span><ul class=\"toc-item\"><li><span><a href=\"#Méthodes-pour-choisir-le-nombre-de-clusters\" data-toc-modified-id=\"Méthodes-pour-choisir-le-nombre-de-clusters-3.1\"><span class=\"toc-item-num\">3.1&nbsp;&nbsp;</span>Méthodes pour choisir le nombre de clusters</a></span><ul class=\"toc-item\"><li><span><a href=\"#Méthode-du-coefficient-de-silhouette\" data-toc-modified-id=\"Méthode-du-coefficient-de-silhouette-3.1.1\"><span class=\"toc-item-num\">3.1.1&nbsp;&nbsp;</span>Méthode du coefficient de silhouette</a></span></li><li><span><a href=\"#Méthode-du-coude\" data-toc-modified-id=\"Méthode-du-coude-3.1.2\"><span class=\"toc-item-num\">3.1.2&nbsp;&nbsp;</span>Méthode du coude</a></span></li></ul></li><li><span><a href=\"#Mise-en-place-du-modèle-(Kmeans)\" data-toc-modified-id=\"Mise-en-place-du-modèle-(Kmeans)-3.2\"><span class=\"toc-item-num\">3.2&nbsp;&nbsp;</span>Mise en place du modèle (Kmeans)</a></span></li><li><span><a href=\"#Evaluation-du-modèle-et-Matrice-de-confusion\" data-toc-modified-id=\"Evaluation-du-modèle-et-Matrice-de-confusion-3.3\"><span class=\"toc-item-num\">3.3&nbsp;&nbsp;</span>Evaluation du modèle et Matrice de confusion</a></span></li><li><span><a href=\"#Test-de-déploiement-(Application-du--2nd-modèle-sur-un-fichier-distinct)-&amp;-résultats\" data-toc-modified-id=\"Test-de-déploiement-(Application-du--2nd-modèle-sur-un-fichier-distinct)-&amp;-résultats-3.4\"><span class=\"toc-item-num\">3.4&nbsp;&nbsp;</span>Test de déploiement (Application du  2nd modèle sur un fichier distinct) &amp; résultats</a></span></li></ul></li><li><span><a href=\"#Test-Direct-(Fonctions)\" data-toc-modified-id=\"Test-Direct-(Fonctions)-4\"><span class=\"toc-item-num\">4&nbsp;&nbsp;</span>Test Direct (Fonctions)</a></span><ul class=\"toc-item\"><li><span><a href=\"#Avec-Regression-logistique\" data-toc-modified-id=\"Avec-Regression-logistique-4.1\"><span class=\"toc-item-num\">4.1&nbsp;&nbsp;</span>Avec Regression logistique</a></span></li><li><span><a href=\"#Avec-Kmeans\" data-toc-modified-id=\"Avec-Kmeans-4.2\"><span class=\"toc-item-num\">4.2&nbsp;&nbsp;</span>Avec Kmeans</a></span></li></ul></li></ul></div>"
   ]
  },
  {
   "cell_type": "code",
   "execution_count": 1,
   "id": "7a56e51b-4deb-4ded-9ede-8a905ffe9c81",
   "metadata": {},
   "outputs": [],
   "source": [
    "# Importation des bibliothéques\n",
    "\n",
    "import pandas as pd\n",
    "import numpy as np\n",
    "import matplotlib.pyplot as plt\n",
    "import seaborn as sns\n",
    "\n",
    "import warnings\n",
    "warnings.filterwarnings('ignore')\n",
    "\n",
    "from sklearn.linear_model import LogisticRegression\n",
    "from sklearn.metrics import classification_report, accuracy_score, silhouette_score\n",
    "from sklearn.model_selection import train_test_split\n",
    "from sklearn.metrics import confusion_matrix\n",
    "from sklearn.linear_model import LinearRegression\n",
    "from sklearn.cluster import KMeans\n",
    "from sklearn.metrics import r2_score\n",
    "from sklearn.preprocessing import StandardScaler\n",
    "from sklearn import preprocessing\n",
    "from sklearn.metrics import davies_bouldin_score\n",
    "from sklearn.metrics import calinski_harabasz_score\n",
    "\n",
    "import statsmodels.formula.api as smf\n",
    "from scipy.stats import t, shapiro\n",
    "import statsmodels.api as sm\n",
    "from statsmodels.stats.outliers_influence import variance_inflation_factor\n",
    "import statsmodels\n"
   ]
  },
  {
   "cell_type": "code",
   "execution_count": 2,
   "id": "ce78846f-b26b-4a19-b653-e89e4e84cb25",
   "metadata": {},
   "outputs": [],
   "source": [
    "data = pd.read_csv('billets.csv',delimiter = \";\")"
   ]
  },
  {
   "cell_type": "code",
   "execution_count": 3,
   "id": "8cde697c-8ce9-48ee-9869-0a64ac1e3225",
   "metadata": {},
   "outputs": [
    {
     "data": {
      "text/html": [
       "<div>\n",
       "<style scoped>\n",
       "    .dataframe tbody tr th:only-of-type {\n",
       "        vertical-align: middle;\n",
       "    }\n",
       "\n",
       "    .dataframe tbody tr th {\n",
       "        vertical-align: top;\n",
       "    }\n",
       "\n",
       "    .dataframe thead th {\n",
       "        text-align: right;\n",
       "    }\n",
       "</style>\n",
       "<table border=\"1\" class=\"dataframe\">\n",
       "  <thead>\n",
       "    <tr style=\"text-align: right;\">\n",
       "      <th></th>\n",
       "      <th>is_genuine</th>\n",
       "      <th>diagonal</th>\n",
       "      <th>height_left</th>\n",
       "      <th>height_right</th>\n",
       "      <th>margin_low</th>\n",
       "      <th>margin_up</th>\n",
       "      <th>length</th>\n",
       "    </tr>\n",
       "  </thead>\n",
       "  <tbody>\n",
       "    <tr>\n",
       "      <th>0</th>\n",
       "      <td>True</td>\n",
       "      <td>171.81</td>\n",
       "      <td>104.86</td>\n",
       "      <td>104.95</td>\n",
       "      <td>4.52</td>\n",
       "      <td>2.89</td>\n",
       "      <td>112.83</td>\n",
       "    </tr>\n",
       "    <tr>\n",
       "      <th>1</th>\n",
       "      <td>True</td>\n",
       "      <td>171.46</td>\n",
       "      <td>103.36</td>\n",
       "      <td>103.66</td>\n",
       "      <td>3.77</td>\n",
       "      <td>2.99</td>\n",
       "      <td>113.09</td>\n",
       "    </tr>\n",
       "    <tr>\n",
       "      <th>2</th>\n",
       "      <td>True</td>\n",
       "      <td>172.69</td>\n",
       "      <td>104.48</td>\n",
       "      <td>103.50</td>\n",
       "      <td>4.40</td>\n",
       "      <td>2.94</td>\n",
       "      <td>113.16</td>\n",
       "    </tr>\n",
       "    <tr>\n",
       "      <th>3</th>\n",
       "      <td>True</td>\n",
       "      <td>171.36</td>\n",
       "      <td>103.91</td>\n",
       "      <td>103.94</td>\n",
       "      <td>3.62</td>\n",
       "      <td>3.01</td>\n",
       "      <td>113.51</td>\n",
       "    </tr>\n",
       "    <tr>\n",
       "      <th>4</th>\n",
       "      <td>True</td>\n",
       "      <td>171.73</td>\n",
       "      <td>104.28</td>\n",
       "      <td>103.46</td>\n",
       "      <td>4.04</td>\n",
       "      <td>3.48</td>\n",
       "      <td>112.54</td>\n",
       "    </tr>\n",
       "    <tr>\n",
       "      <th>...</th>\n",
       "      <td>...</td>\n",
       "      <td>...</td>\n",
       "      <td>...</td>\n",
       "      <td>...</td>\n",
       "      <td>...</td>\n",
       "      <td>...</td>\n",
       "      <td>...</td>\n",
       "    </tr>\n",
       "    <tr>\n",
       "      <th>1495</th>\n",
       "      <td>False</td>\n",
       "      <td>171.75</td>\n",
       "      <td>104.38</td>\n",
       "      <td>104.17</td>\n",
       "      <td>4.42</td>\n",
       "      <td>3.09</td>\n",
       "      <td>111.28</td>\n",
       "    </tr>\n",
       "    <tr>\n",
       "      <th>1496</th>\n",
       "      <td>False</td>\n",
       "      <td>172.19</td>\n",
       "      <td>104.63</td>\n",
       "      <td>104.44</td>\n",
       "      <td>5.27</td>\n",
       "      <td>3.37</td>\n",
       "      <td>110.97</td>\n",
       "    </tr>\n",
       "    <tr>\n",
       "      <th>1497</th>\n",
       "      <td>False</td>\n",
       "      <td>171.80</td>\n",
       "      <td>104.01</td>\n",
       "      <td>104.12</td>\n",
       "      <td>5.51</td>\n",
       "      <td>3.36</td>\n",
       "      <td>111.95</td>\n",
       "    </tr>\n",
       "    <tr>\n",
       "      <th>1498</th>\n",
       "      <td>False</td>\n",
       "      <td>172.06</td>\n",
       "      <td>104.28</td>\n",
       "      <td>104.06</td>\n",
       "      <td>5.17</td>\n",
       "      <td>3.46</td>\n",
       "      <td>112.25</td>\n",
       "    </tr>\n",
       "    <tr>\n",
       "      <th>1499</th>\n",
       "      <td>False</td>\n",
       "      <td>171.47</td>\n",
       "      <td>104.15</td>\n",
       "      <td>103.82</td>\n",
       "      <td>4.63</td>\n",
       "      <td>3.37</td>\n",
       "      <td>112.07</td>\n",
       "    </tr>\n",
       "  </tbody>\n",
       "</table>\n",
       "<p>1500 rows × 7 columns</p>\n",
       "</div>"
      ],
      "text/plain": [
       "      is_genuine  diagonal  height_left  height_right  margin_low  margin_up  \\\n",
       "0           True    171.81       104.86        104.95        4.52       2.89   \n",
       "1           True    171.46       103.36        103.66        3.77       2.99   \n",
       "2           True    172.69       104.48        103.50        4.40       2.94   \n",
       "3           True    171.36       103.91        103.94        3.62       3.01   \n",
       "4           True    171.73       104.28        103.46        4.04       3.48   \n",
       "...          ...       ...          ...           ...         ...        ...   \n",
       "1495       False    171.75       104.38        104.17        4.42       3.09   \n",
       "1496       False    172.19       104.63        104.44        5.27       3.37   \n",
       "1497       False    171.80       104.01        104.12        5.51       3.36   \n",
       "1498       False    172.06       104.28        104.06        5.17       3.46   \n",
       "1499       False    171.47       104.15        103.82        4.63       3.37   \n",
       "\n",
       "      length  \n",
       "0     112.83  \n",
       "1     113.09  \n",
       "2     113.16  \n",
       "3     113.51  \n",
       "4     112.54  \n",
       "...      ...  \n",
       "1495  111.28  \n",
       "1496  110.97  \n",
       "1497  111.95  \n",
       "1498  112.25  \n",
       "1499  112.07  \n",
       "\n",
       "[1500 rows x 7 columns]"
      ]
     },
     "execution_count": 3,
     "metadata": {},
     "output_type": "execute_result"
    }
   ],
   "source": [
    "data"
   ]
  },
  {
   "cell_type": "markdown",
   "id": "6be52b91-0698-4654-bc2d-be3675f3b0f8",
   "metadata": {
    "tags": []
   },
   "source": [
    "# Pre-processing/Traitement des valeurs manquantes"
   ]
  },
  {
   "cell_type": "markdown",
   "id": "815d147f-56f8-41c8-b0de-f0d69a6efe1a",
   "metadata": {},
   "source": [
    "Il s'agira ici de combler les valeurs manquantes de notre jeu de données en utilisant la technique\n",
    "d'imputation par régression linéaire."
   ]
  },
  {
   "cell_type": "code",
   "execution_count": 4,
   "id": "479f0bc3-86f3-4b9c-be5b-e7d5bf425762",
   "metadata": {},
   "outputs": [
    {
     "name": "stdout",
     "output_type": "stream",
     "text": [
      "<class 'pandas.core.frame.DataFrame'>\n",
      "RangeIndex: 1500 entries, 0 to 1499\n",
      "Data columns (total 7 columns):\n",
      " #   Column        Non-Null Count  Dtype  \n",
      "---  ------        --------------  -----  \n",
      " 0   is_genuine    1500 non-null   bool   \n",
      " 1   diagonal      1500 non-null   float64\n",
      " 2   height_left   1500 non-null   float64\n",
      " 3   height_right  1500 non-null   float64\n",
      " 4   margin_low    1463 non-null   float64\n",
      " 5   margin_up     1500 non-null   float64\n",
      " 6   length        1500 non-null   float64\n",
      "dtypes: bool(1), float64(6)\n",
      "memory usage: 71.9 KB\n"
     ]
    }
   ],
   "source": [
    "data.info()"
   ]
  },
  {
   "cell_type": "code",
   "execution_count": 5,
   "id": "aaec9cde-fc97-41f6-85d9-7a0fd55790b8",
   "metadata": {},
   "outputs": [
    {
     "data": {
      "text/plain": [
       "is_genuine       0\n",
       "diagonal         0\n",
       "height_left      0\n",
       "height_right     0\n",
       "margin_low      37\n",
       "margin_up        0\n",
       "length           0\n",
       "dtype: int64"
      ]
     },
     "execution_count": 5,
     "metadata": {},
     "output_type": "execute_result"
    }
   ],
   "source": [
    "data.isna().sum()"
   ]
  },
  {
   "cell_type": "code",
   "execution_count": 6,
   "id": "308ce5ad-bd47-4406-84b1-11b5a4c78830",
   "metadata": {},
   "outputs": [],
   "source": [
    "# Transformation des valeurs de la variable 'is_genuine' en type numérique \n",
    "\n",
    "data[\"is_genuine\"] = data[\"is_genuine\"].astype(int)"
   ]
  },
  {
   "cell_type": "markdown",
   "id": "b3974cea-70ba-4f8a-95a8-7778c382224d",
   "metadata": {},
   "source": [
    "## Significativité  des variables"
   ]
  },
  {
   "cell_type": "code",
   "execution_count": 7,
   "id": "49339cc9-cde5-4775-8d90-5fa81fb3e130",
   "metadata": {},
   "outputs": [
    {
     "name": "stdout",
     "output_type": "stream",
     "text": [
      "                            OLS Regression Results                            \n",
      "==============================================================================\n",
      "Dep. Variable:             margin_low   R-squared:                       0.617\n",
      "Model:                            OLS   Adj. R-squared:                  0.616\n",
      "Method:                 Least Squares   F-statistic:                     1174.\n",
      "Date:                Sat, 28 Jan 2023   Prob (F-statistic):          1.24e-304\n",
      "Time:                        07:07:37   Log-Likelihood:                -774.73\n",
      "No. Observations:                1463   AIC:                             1555.\n",
      "Df Residuals:                    1460   BIC:                             1571.\n",
      "Df Model:                           2                                         \n",
      "Covariance Type:            nonrobust                                         \n",
      "==============================================================================\n",
      "                 coef    std err          t      P>|t|      [0.025      0.975]\n",
      "------------------------------------------------------------------------------\n",
      "Intercept      5.9263      0.198     30.003      0.000       5.539       6.314\n",
      "margin_up     -0.2119      0.059     -3.612      0.000      -0.327      -0.097\n",
      "is_genuine    -1.1632      0.029    -40.477      0.000      -1.220      -1.107\n",
      "==============================================================================\n",
      "Omnibus:                       22.365   Durbin-Watson:                   2.041\n",
      "Prob(Omnibus):                  0.000   Jarque-Bera (JB):               39.106\n",
      "Skew:                           0.057   Prob(JB):                     3.22e-09\n",
      "Kurtosis:                       3.793   Cond. No.                         65.0\n",
      "==============================================================================\n",
      "\n",
      "Notes:\n",
      "[1] Standard Errors assume that the covariance matrix of the errors is correctly specified.\n"
     ]
    }
   ],
   "source": [
    "reg_multi = smf.ols(\"margin_low~margin_up+is_genuine\", data=data).fit()\n",
    "print(reg_multi.summary())"
   ]
  },
  {
   "cell_type": "markdown",
   "id": "899892c1-8c7c-4545-adbb-7e619dc83f82",
   "metadata": {},
   "source": [
    "**Les deux variables significatives (dont la p-valeur ici est inférieure à 5%) sont is_genuine et margin_up.**"
   ]
  },
  {
   "cell_type": "code",
   "execution_count": 8,
   "id": "b8d9a467-a02e-49e0-a24a-5fc5758893f7",
   "metadata": {},
   "outputs": [
    {
     "data": {
      "text/html": [
       "<div>\n",
       "<style scoped>\n",
       "    .dataframe tbody tr th:only-of-type {\n",
       "        vertical-align: middle;\n",
       "    }\n",
       "\n",
       "    .dataframe tbody tr th {\n",
       "        vertical-align: top;\n",
       "    }\n",
       "\n",
       "    .dataframe thead th {\n",
       "        text-align: right;\n",
       "    }\n",
       "</style>\n",
       "<table border=\"1\" class=\"dataframe\">\n",
       "  <thead>\n",
       "    <tr style=\"text-align: right;\">\n",
       "      <th></th>\n",
       "      <th>is_genuine</th>\n",
       "      <th>margin_low</th>\n",
       "      <th>margin_up</th>\n",
       "    </tr>\n",
       "  </thead>\n",
       "  <tbody>\n",
       "    <tr>\n",
       "      <th>0</th>\n",
       "      <td>1</td>\n",
       "      <td>4.52</td>\n",
       "      <td>2.89</td>\n",
       "    </tr>\n",
       "    <tr>\n",
       "      <th>1</th>\n",
       "      <td>1</td>\n",
       "      <td>3.77</td>\n",
       "      <td>2.99</td>\n",
       "    </tr>\n",
       "    <tr>\n",
       "      <th>2</th>\n",
       "      <td>1</td>\n",
       "      <td>4.40</td>\n",
       "      <td>2.94</td>\n",
       "    </tr>\n",
       "    <tr>\n",
       "      <th>3</th>\n",
       "      <td>1</td>\n",
       "      <td>3.62</td>\n",
       "      <td>3.01</td>\n",
       "    </tr>\n",
       "    <tr>\n",
       "      <th>4</th>\n",
       "      <td>1</td>\n",
       "      <td>4.04</td>\n",
       "      <td>3.48</td>\n",
       "    </tr>\n",
       "    <tr>\n",
       "      <th>...</th>\n",
       "      <td>...</td>\n",
       "      <td>...</td>\n",
       "      <td>...</td>\n",
       "    </tr>\n",
       "    <tr>\n",
       "      <th>1495</th>\n",
       "      <td>0</td>\n",
       "      <td>4.42</td>\n",
       "      <td>3.09</td>\n",
       "    </tr>\n",
       "    <tr>\n",
       "      <th>1496</th>\n",
       "      <td>0</td>\n",
       "      <td>5.27</td>\n",
       "      <td>3.37</td>\n",
       "    </tr>\n",
       "    <tr>\n",
       "      <th>1497</th>\n",
       "      <td>0</td>\n",
       "      <td>5.51</td>\n",
       "      <td>3.36</td>\n",
       "    </tr>\n",
       "    <tr>\n",
       "      <th>1498</th>\n",
       "      <td>0</td>\n",
       "      <td>5.17</td>\n",
       "      <td>3.46</td>\n",
       "    </tr>\n",
       "    <tr>\n",
       "      <th>1499</th>\n",
       "      <td>0</td>\n",
       "      <td>4.63</td>\n",
       "      <td>3.37</td>\n",
       "    </tr>\n",
       "  </tbody>\n",
       "</table>\n",
       "<p>1500 rows × 3 columns</p>\n",
       "</div>"
      ],
      "text/plain": [
       "      is_genuine  margin_low  margin_up\n",
       "0              1        4.52       2.89\n",
       "1              1        3.77       2.99\n",
       "2              1        4.40       2.94\n",
       "3              1        3.62       3.01\n",
       "4              1        4.04       3.48\n",
       "...          ...         ...        ...\n",
       "1495           0        4.42       3.09\n",
       "1496           0        5.27       3.37\n",
       "1497           0        5.51       3.36\n",
       "1498           0        5.17       3.46\n",
       "1499           0        4.63       3.37\n",
       "\n",
       "[1500 rows x 3 columns]"
      ]
     },
     "execution_count": 8,
     "metadata": {},
     "output_type": "execute_result"
    }
   ],
   "source": [
    "# Création d'un dataframe sans les variables non significatives\n",
    "\n",
    "data_RL = data.drop(columns = ['height_left', 'length', 'diagonal', 'height_right' ])\n",
    "data_RL"
   ]
  },
  {
   "cell_type": "markdown",
   "id": "ff1914ff-9254-410c-8c0b-2b20d9faf567",
   "metadata": {},
   "source": [
    "## Séparer les valeurs manquantes"
   ]
  },
  {
   "cell_type": "code",
   "execution_count": 9,
   "id": "8d1940aa-568c-42f0-88ed-3aa1a111e5fc",
   "metadata": {},
   "outputs": [],
   "source": [
    "NanRows = data_RL[data_RL['margin_low'].isnull()]"
   ]
  },
  {
   "cell_type": "code",
   "execution_count": 10,
   "id": "48d44201-b24b-4262-85bf-b3e69785c4a7",
   "metadata": {},
   "outputs": [
    {
     "data": {
      "text/html": [
       "<div>\n",
       "<style scoped>\n",
       "    .dataframe tbody tr th:only-of-type {\n",
       "        vertical-align: middle;\n",
       "    }\n",
       "\n",
       "    .dataframe tbody tr th {\n",
       "        vertical-align: top;\n",
       "    }\n",
       "\n",
       "    .dataframe thead th {\n",
       "        text-align: right;\n",
       "    }\n",
       "</style>\n",
       "<table border=\"1\" class=\"dataframe\">\n",
       "  <thead>\n",
       "    <tr style=\"text-align: right;\">\n",
       "      <th></th>\n",
       "      <th>is_genuine</th>\n",
       "      <th>margin_low</th>\n",
       "      <th>margin_up</th>\n",
       "    </tr>\n",
       "  </thead>\n",
       "  <tbody>\n",
       "    <tr>\n",
       "      <th>72</th>\n",
       "      <td>1</td>\n",
       "      <td>NaN</td>\n",
       "      <td>3.25</td>\n",
       "    </tr>\n",
       "    <tr>\n",
       "      <th>99</th>\n",
       "      <td>1</td>\n",
       "      <td>NaN</td>\n",
       "      <td>3.14</td>\n",
       "    </tr>\n",
       "    <tr>\n",
       "      <th>151</th>\n",
       "      <td>1</td>\n",
       "      <td>NaN</td>\n",
       "      <td>3.02</td>\n",
       "    </tr>\n",
       "    <tr>\n",
       "      <th>197</th>\n",
       "      <td>1</td>\n",
       "      <td>NaN</td>\n",
       "      <td>3.62</td>\n",
       "    </tr>\n",
       "    <tr>\n",
       "      <th>241</th>\n",
       "      <td>1</td>\n",
       "      <td>NaN</td>\n",
       "      <td>3.02</td>\n",
       "    </tr>\n",
       "    <tr>\n",
       "      <th>251</th>\n",
       "      <td>1</td>\n",
       "      <td>NaN</td>\n",
       "      <td>2.95</td>\n",
       "    </tr>\n",
       "    <tr>\n",
       "      <th>284</th>\n",
       "      <td>1</td>\n",
       "      <td>NaN</td>\n",
       "      <td>3.23</td>\n",
       "    </tr>\n",
       "    <tr>\n",
       "      <th>334</th>\n",
       "      <td>1</td>\n",
       "      <td>NaN</td>\n",
       "      <td>3.00</td>\n",
       "    </tr>\n",
       "    <tr>\n",
       "      <th>410</th>\n",
       "      <td>1</td>\n",
       "      <td>NaN</td>\n",
       "      <td>3.12</td>\n",
       "    </tr>\n",
       "    <tr>\n",
       "      <th>413</th>\n",
       "      <td>1</td>\n",
       "      <td>NaN</td>\n",
       "      <td>3.16</td>\n",
       "    </tr>\n",
       "    <tr>\n",
       "      <th>445</th>\n",
       "      <td>1</td>\n",
       "      <td>NaN</td>\n",
       "      <td>3.01</td>\n",
       "    </tr>\n",
       "    <tr>\n",
       "      <th>481</th>\n",
       "      <td>1</td>\n",
       "      <td>NaN</td>\n",
       "      <td>2.71</td>\n",
       "    </tr>\n",
       "    <tr>\n",
       "      <th>505</th>\n",
       "      <td>1</td>\n",
       "      <td>NaN</td>\n",
       "      <td>2.98</td>\n",
       "    </tr>\n",
       "    <tr>\n",
       "      <th>611</th>\n",
       "      <td>1</td>\n",
       "      <td>NaN</td>\n",
       "      <td>3.30</td>\n",
       "    </tr>\n",
       "    <tr>\n",
       "      <th>654</th>\n",
       "      <td>1</td>\n",
       "      <td>NaN</td>\n",
       "      <td>2.70</td>\n",
       "    </tr>\n",
       "    <tr>\n",
       "      <th>675</th>\n",
       "      <td>1</td>\n",
       "      <td>NaN</td>\n",
       "      <td>2.56</td>\n",
       "    </tr>\n",
       "    <tr>\n",
       "      <th>710</th>\n",
       "      <td>1</td>\n",
       "      <td>NaN</td>\n",
       "      <td>3.07</td>\n",
       "    </tr>\n",
       "    <tr>\n",
       "      <th>739</th>\n",
       "      <td>1</td>\n",
       "      <td>NaN</td>\n",
       "      <td>3.09</td>\n",
       "    </tr>\n",
       "    <tr>\n",
       "      <th>742</th>\n",
       "      <td>1</td>\n",
       "      <td>NaN</td>\n",
       "      <td>3.24</td>\n",
       "    </tr>\n",
       "    <tr>\n",
       "      <th>780</th>\n",
       "      <td>1</td>\n",
       "      <td>NaN</td>\n",
       "      <td>3.13</td>\n",
       "    </tr>\n",
       "    <tr>\n",
       "      <th>798</th>\n",
       "      <td>1</td>\n",
       "      <td>NaN</td>\n",
       "      <td>3.01</td>\n",
       "    </tr>\n",
       "    <tr>\n",
       "      <th>844</th>\n",
       "      <td>1</td>\n",
       "      <td>NaN</td>\n",
       "      <td>2.99</td>\n",
       "    </tr>\n",
       "    <tr>\n",
       "      <th>845</th>\n",
       "      <td>1</td>\n",
       "      <td>NaN</td>\n",
       "      <td>2.90</td>\n",
       "    </tr>\n",
       "    <tr>\n",
       "      <th>871</th>\n",
       "      <td>1</td>\n",
       "      <td>NaN</td>\n",
       "      <td>3.07</td>\n",
       "    </tr>\n",
       "    <tr>\n",
       "      <th>895</th>\n",
       "      <td>1</td>\n",
       "      <td>NaN</td>\n",
       "      <td>2.98</td>\n",
       "    </tr>\n",
       "    <tr>\n",
       "      <th>919</th>\n",
       "      <td>1</td>\n",
       "      <td>NaN</td>\n",
       "      <td>2.58</td>\n",
       "    </tr>\n",
       "    <tr>\n",
       "      <th>945</th>\n",
       "      <td>1</td>\n",
       "      <td>NaN</td>\n",
       "      <td>3.02</td>\n",
       "    </tr>\n",
       "    <tr>\n",
       "      <th>946</th>\n",
       "      <td>1</td>\n",
       "      <td>NaN</td>\n",
       "      <td>3.27</td>\n",
       "    </tr>\n",
       "    <tr>\n",
       "      <th>981</th>\n",
       "      <td>1</td>\n",
       "      <td>NaN</td>\n",
       "      <td>2.99</td>\n",
       "    </tr>\n",
       "    <tr>\n",
       "      <th>1076</th>\n",
       "      <td>0</td>\n",
       "      <td>NaN</td>\n",
       "      <td>3.21</td>\n",
       "    </tr>\n",
       "    <tr>\n",
       "      <th>1121</th>\n",
       "      <td>0</td>\n",
       "      <td>NaN</td>\n",
       "      <td>3.17</td>\n",
       "    </tr>\n",
       "    <tr>\n",
       "      <th>1176</th>\n",
       "      <td>0</td>\n",
       "      <td>NaN</td>\n",
       "      <td>3.02</td>\n",
       "    </tr>\n",
       "    <tr>\n",
       "      <th>1303</th>\n",
       "      <td>0</td>\n",
       "      <td>NaN</td>\n",
       "      <td>2.93</td>\n",
       "    </tr>\n",
       "    <tr>\n",
       "      <th>1315</th>\n",
       "      <td>0</td>\n",
       "      <td>NaN</td>\n",
       "      <td>3.40</td>\n",
       "    </tr>\n",
       "    <tr>\n",
       "      <th>1347</th>\n",
       "      <td>0</td>\n",
       "      <td>NaN</td>\n",
       "      <td>3.61</td>\n",
       "    </tr>\n",
       "    <tr>\n",
       "      <th>1435</th>\n",
       "      <td>0</td>\n",
       "      <td>NaN</td>\n",
       "      <td>3.56</td>\n",
       "    </tr>\n",
       "    <tr>\n",
       "      <th>1438</th>\n",
       "      <td>0</td>\n",
       "      <td>NaN</td>\n",
       "      <td>3.24</td>\n",
       "    </tr>\n",
       "  </tbody>\n",
       "</table>\n",
       "</div>"
      ],
      "text/plain": [
       "      is_genuine  margin_low  margin_up\n",
       "72             1         NaN       3.25\n",
       "99             1         NaN       3.14\n",
       "151            1         NaN       3.02\n",
       "197            1         NaN       3.62\n",
       "241            1         NaN       3.02\n",
       "251            1         NaN       2.95\n",
       "284            1         NaN       3.23\n",
       "334            1         NaN       3.00\n",
       "410            1         NaN       3.12\n",
       "413            1         NaN       3.16\n",
       "445            1         NaN       3.01\n",
       "481            1         NaN       2.71\n",
       "505            1         NaN       2.98\n",
       "611            1         NaN       3.30\n",
       "654            1         NaN       2.70\n",
       "675            1         NaN       2.56\n",
       "710            1         NaN       3.07\n",
       "739            1         NaN       3.09\n",
       "742            1         NaN       3.24\n",
       "780            1         NaN       3.13\n",
       "798            1         NaN       3.01\n",
       "844            1         NaN       2.99\n",
       "845            1         NaN       2.90\n",
       "871            1         NaN       3.07\n",
       "895            1         NaN       2.98\n",
       "919            1         NaN       2.58\n",
       "945            1         NaN       3.02\n",
       "946            1         NaN       3.27\n",
       "981            1         NaN       2.99\n",
       "1076           0         NaN       3.21\n",
       "1121           0         NaN       3.17\n",
       "1176           0         NaN       3.02\n",
       "1303           0         NaN       2.93\n",
       "1315           0         NaN       3.40\n",
       "1347           0         NaN       3.61\n",
       "1435           0         NaN       3.56\n",
       "1438           0         NaN       3.24"
      ]
     },
     "execution_count": 10,
     "metadata": {},
     "output_type": "execute_result"
    }
   ],
   "source": [
    "NanRows"
   ]
  },
  {
   "cell_type": "markdown",
   "id": "397d72be-4191-4603-b5e7-9b1bc3ea0ab9",
   "metadata": {},
   "source": [
    "## Supprimer les valeurs manquantes du jeu de données data_RL et prendre ce (nouveau) sous-ensemble pour entrainer les données"
   ]
  },
  {
   "cell_type": "code",
   "execution_count": 11,
   "id": "084e8322-b736-410d-bbea-76476717ce0f",
   "metadata": {},
   "outputs": [],
   "source": [
    "subset = data_RL.dropna()"
   ]
  },
  {
   "cell_type": "code",
   "execution_count": 12,
   "id": "67defda0-0ce8-4e37-838c-7a4c4337e1e7",
   "metadata": {},
   "outputs": [
    {
     "data": {
      "text/html": [
       "<div>\n",
       "<style scoped>\n",
       "    .dataframe tbody tr th:only-of-type {\n",
       "        vertical-align: middle;\n",
       "    }\n",
       "\n",
       "    .dataframe tbody tr th {\n",
       "        vertical-align: top;\n",
       "    }\n",
       "\n",
       "    .dataframe thead th {\n",
       "        text-align: right;\n",
       "    }\n",
       "</style>\n",
       "<table border=\"1\" class=\"dataframe\">\n",
       "  <thead>\n",
       "    <tr style=\"text-align: right;\">\n",
       "      <th></th>\n",
       "      <th>is_genuine</th>\n",
       "      <th>margin_low</th>\n",
       "      <th>margin_up</th>\n",
       "    </tr>\n",
       "  </thead>\n",
       "  <tbody>\n",
       "    <tr>\n",
       "      <th>0</th>\n",
       "      <td>1</td>\n",
       "      <td>4.52</td>\n",
       "      <td>2.89</td>\n",
       "    </tr>\n",
       "    <tr>\n",
       "      <th>1</th>\n",
       "      <td>1</td>\n",
       "      <td>3.77</td>\n",
       "      <td>2.99</td>\n",
       "    </tr>\n",
       "    <tr>\n",
       "      <th>2</th>\n",
       "      <td>1</td>\n",
       "      <td>4.40</td>\n",
       "      <td>2.94</td>\n",
       "    </tr>\n",
       "    <tr>\n",
       "      <th>3</th>\n",
       "      <td>1</td>\n",
       "      <td>3.62</td>\n",
       "      <td>3.01</td>\n",
       "    </tr>\n",
       "    <tr>\n",
       "      <th>4</th>\n",
       "      <td>1</td>\n",
       "      <td>4.04</td>\n",
       "      <td>3.48</td>\n",
       "    </tr>\n",
       "    <tr>\n",
       "      <th>...</th>\n",
       "      <td>...</td>\n",
       "      <td>...</td>\n",
       "      <td>...</td>\n",
       "    </tr>\n",
       "    <tr>\n",
       "      <th>1495</th>\n",
       "      <td>0</td>\n",
       "      <td>4.42</td>\n",
       "      <td>3.09</td>\n",
       "    </tr>\n",
       "    <tr>\n",
       "      <th>1496</th>\n",
       "      <td>0</td>\n",
       "      <td>5.27</td>\n",
       "      <td>3.37</td>\n",
       "    </tr>\n",
       "    <tr>\n",
       "      <th>1497</th>\n",
       "      <td>0</td>\n",
       "      <td>5.51</td>\n",
       "      <td>3.36</td>\n",
       "    </tr>\n",
       "    <tr>\n",
       "      <th>1498</th>\n",
       "      <td>0</td>\n",
       "      <td>5.17</td>\n",
       "      <td>3.46</td>\n",
       "    </tr>\n",
       "    <tr>\n",
       "      <th>1499</th>\n",
       "      <td>0</td>\n",
       "      <td>4.63</td>\n",
       "      <td>3.37</td>\n",
       "    </tr>\n",
       "  </tbody>\n",
       "</table>\n",
       "<p>1463 rows × 3 columns</p>\n",
       "</div>"
      ],
      "text/plain": [
       "      is_genuine  margin_low  margin_up\n",
       "0              1        4.52       2.89\n",
       "1              1        3.77       2.99\n",
       "2              1        4.40       2.94\n",
       "3              1        3.62       3.01\n",
       "4              1        4.04       3.48\n",
       "...          ...         ...        ...\n",
       "1495           0        4.42       3.09\n",
       "1496           0        5.27       3.37\n",
       "1497           0        5.51       3.36\n",
       "1498           0        5.17       3.46\n",
       "1499           0        4.63       3.37\n",
       "\n",
       "[1463 rows x 3 columns]"
      ]
     },
     "execution_count": 12,
     "metadata": {},
     "output_type": "execute_result"
    }
   ],
   "source": [
    "subset"
   ]
  },
  {
   "cell_type": "code",
   "execution_count": 13,
   "id": "f07be3a9-b5f1-41ac-91a1-5f44dc72d0fb",
   "metadata": {},
   "outputs": [
    {
     "data": {
      "text/plain": [
       "is_genuine    0\n",
       "margin_low    0\n",
       "margin_up     0\n",
       "dtype: int64"
      ]
     },
     "execution_count": 13,
     "metadata": {},
     "output_type": "execute_result"
    }
   ],
   "source": [
    "subset.isnull().sum()"
   ]
  },
  {
   "cell_type": "markdown",
   "id": "9d21aec2-f586-4b81-9790-a714b4fca443",
   "metadata": {},
   "source": [
    "## Créer X et y depuis le sous-ensemble"
   ]
  },
  {
   "cell_type": "code",
   "execution_count": 14,
   "id": "c1fa3ebe-bfe4-4cb6-a19f-fb08ce3fb0aa",
   "metadata": {},
   "outputs": [],
   "source": [
    "y = subset['margin_low'] # variable cible"
   ]
  },
  {
   "cell_type": "code",
   "execution_count": 15,
   "id": "f56032da-455f-48b6-9723-df8de7009126",
   "metadata": {},
   "outputs": [
    {
     "data": {
      "text/plain": [
       "0       4.52\n",
       "1       3.77\n",
       "2       4.40\n",
       "3       3.62\n",
       "4       4.04\n",
       "        ... \n",
       "1495    4.42\n",
       "1496    5.27\n",
       "1497    5.51\n",
       "1498    5.17\n",
       "1499    4.63\n",
       "Name: margin_low, Length: 1463, dtype: float64"
      ]
     },
     "execution_count": 15,
     "metadata": {},
     "output_type": "execute_result"
    }
   ],
   "source": [
    "y"
   ]
  },
  {
   "cell_type": "code",
   "execution_count": 16,
   "id": "26abb04c-c8c4-44db-aa7c-b3239f0581c3",
   "metadata": {},
   "outputs": [
    {
     "data": {
      "text/plain": [
       "(1463,)"
      ]
     },
     "execution_count": 16,
     "metadata": {},
     "output_type": "execute_result"
    }
   ],
   "source": [
    "y.shape"
   ]
  },
  {
   "cell_type": "code",
   "execution_count": 17,
   "id": "099a11aa-751e-4e9f-ac90-9a45fff52796",
   "metadata": {},
   "outputs": [],
   "source": [
    "X = subset.drop(\"margin_low\", axis=1)"
   ]
  },
  {
   "cell_type": "code",
   "execution_count": 18,
   "id": "d4de4ae0-5075-4c8b-8714-eba4542dd32f",
   "metadata": {},
   "outputs": [
    {
     "data": {
      "text/plain": [
       "(1463, 2)"
      ]
     },
     "execution_count": 18,
     "metadata": {},
     "output_type": "execute_result"
    }
   ],
   "source": [
    "X.shape"
   ]
  },
  {
   "cell_type": "markdown",
   "id": "dd44e53b-1f1a-4d1d-a2c1-761d9308984c",
   "metadata": {},
   "source": [
    "## Construire le modèle"
   ]
  },
  {
   "cell_type": "code",
   "execution_count": 19,
   "id": "4a2c4ccf-0141-4d19-b05a-ba59f59f1bc7",
   "metadata": {},
   "outputs": [],
   "source": [
    "lr = LinearRegression()"
   ]
  },
  {
   "cell_type": "code",
   "execution_count": 20,
   "id": "24c48668-1a05-4500-a19a-de08650ba350",
   "metadata": {},
   "outputs": [
    {
     "data": {
      "text/plain": [
       "LinearRegression()"
      ]
     },
     "execution_count": 20,
     "metadata": {},
     "output_type": "execute_result"
    }
   ],
   "source": [
    "# Entrainement du modèle sur les données\n",
    "\n",
    "lr.fit(X,y)"
   ]
  },
  {
   "cell_type": "markdown",
   "id": "24c2c36a-fd9d-4169-8c32-0305f1a6da52",
   "metadata": {},
   "source": [
    "## Application du modèle et prédiction des valeurs manquantes + évaluation du modèle"
   ]
  },
  {
   "cell_type": "code",
   "execution_count": 21,
   "id": "24f162e3-20e6-4558-a094-d70e7e040e61",
   "metadata": {},
   "outputs": [],
   "source": [
    "predictions = lr.predict(NanRows.drop('margin_low', axis=1))"
   ]
  },
  {
   "cell_type": "code",
   "execution_count": 22,
   "id": "d7195512-5c0d-418d-81d1-43f23fb9aaca",
   "metadata": {},
   "outputs": [
    {
     "data": {
      "text/plain": [
       "array([4.07424786, 4.0975613 , 4.12299415, 3.99582991, 4.12299415,\n",
       "       4.13782997, 4.07848666, 4.12723295, 4.10180011, 4.09332249,\n",
       "       4.12511355, 4.18869567, 4.13147176, 4.06365084, 4.19081507,\n",
       "       4.22048673, 4.11239713, 4.10815832, 4.07636726, 4.0996807 ,\n",
       "       4.12511355, 4.12935236, 4.14842699, 4.11239713, 4.13147176,\n",
       "       4.21624792, 4.12299415, 4.07000905, 4.12935236, 5.24592539,\n",
       "       5.254403  , 5.28619406, 5.3052687 , 5.20565671, 5.16114923,\n",
       "       5.17174625, 5.23956717])"
      ]
     },
     "execution_count": 22,
     "metadata": {},
     "output_type": "execute_result"
    }
   ],
   "source": [
    "predictions"
   ]
  },
  {
   "cell_type": "code",
   "execution_count": 23,
   "id": "7f4e494a-645a-4ae8-855d-32c188e431bb",
   "metadata": {},
   "outputs": [
    {
     "data": {
      "text/plain": [
       "(37,)"
      ]
     },
     "execution_count": 23,
     "metadata": {},
     "output_type": "execute_result"
    }
   ],
   "source": [
    "predictions.shape"
   ]
  },
  {
   "cell_type": "code",
   "execution_count": 24,
   "id": "aaed25aa-d9cf-47d6-bf6a-4d5851fee05e",
   "metadata": {},
   "outputs": [],
   "source": [
    "y_pred = lr.predict(X)"
   ]
  },
  {
   "cell_type": "code",
   "execution_count": 25,
   "id": "a6783e1b-0169-451b-9a4c-ff4d655157f5",
   "metadata": {},
   "outputs": [
    {
     "name": "stdout",
     "output_type": "stream",
     "text": [
      "Coefficient of determination: 0.62\n"
     ]
    }
   ],
   "source": [
    "# Calculer le coefficient de détermination\n",
    "\n",
    "print(\"Coefficient of determination: %.2f\" % r2_score(y, y_pred))"
   ]
  },
  {
   "cell_type": "markdown",
   "id": "38431f6f-6be7-423a-9ed6-6de531cd4482",
   "metadata": {},
   "source": [
    "## Quelques méthodes pour détecter les valeurs atypiques et/ou influentes"
   ]
  },
  {
   "cell_type": "code",
   "execution_count": 26,
   "id": "cb9bd699-a67c-4b1c-8e08-c282fc0007c5",
   "metadata": {},
   "outputs": [],
   "source": [
    "alpha = 0.05"
   ]
  },
  {
   "cell_type": "markdown",
   "id": "3a0731b4-b4f0-40fb-a98d-13351062af9d",
   "metadata": {},
   "source": [
    "Récupérons $n$, le nombre d'individus de l'échantillon, et $p$, le nombre de variables."
   ]
  },
  {
   "cell_type": "code",
   "execution_count": 27,
   "id": "8dd940fc-d121-416f-8176-0f6f49160466",
   "metadata": {},
   "outputs": [],
   "source": [
    "n = subset.shape[0]\n",
    "p = 3"
   ]
  },
  {
   "cell_type": "markdown",
   "id": "64b17a09-0106-429c-a61e-a36c41366381",
   "metadata": {},
   "source": [
    "Nous allons mener des analyses sur les valeurs atypiques et/ou influentes en travaillant sur un dataframe appelé  analyses."
   ]
  },
  {
   "cell_type": "code",
   "execution_count": 28,
   "id": "313edf99-19fe-40e6-adfa-59a0d94d78ce",
   "metadata": {},
   "outputs": [],
   "source": [
    "analyses = pd.DataFrame({'obs':np.arange(1, n+1)})\n",
    "#analyses['obs'].astype('float', inplace=True)"
   ]
  },
  {
   "cell_type": "markdown",
   "id": "128ee0c8-afde-4c6b-bece-b3224651f79b",
   "metadata": {},
   "source": [
    "### Calculez les leviers\n",
    "\n",
    "On peut calculer les leviers comme ceci, en sachant que le seuil des leviers est de $2∗\\frac{p}{n}$."
   ]
  },
  {
   "cell_type": "code",
   "execution_count": 29,
   "id": "07b4b2c2-4bbb-4ab5-99d9-b0cc096bac35",
   "metadata": {},
   "outputs": [],
   "source": [
    "analyses['levier'] = reg_multi.get_influence().hat_matrix_diag\n",
    "\n",
    "seuil_levier = 2*p/n"
   ]
  },
  {
   "cell_type": "code",
   "execution_count": 30,
   "id": "d48d2b68-6a71-414c-8017-dd0cd70c3f74",
   "metadata": {},
   "outputs": [
    {
     "data": {
      "image/png": "[encoded data removed]",
      "text/plain": [
       "<Figure size 2000x600 with 1 Axes>"
      ]
     },
     "metadata": {},
     "output_type": "display_data"
    }
   ],
   "source": [
    "plt.figure(figsize=(20,6))\n",
    "plt.bar(analyses['obs'], analyses['levier'])\n",
    "plt.xticks(np.arange(0, 1463, step=50))\n",
    "plt.xlabel('Observation')\n",
    "plt.ylabel('Leviers')\n",
    "plt.plot([0, 1463], [seuil_levier, seuil_levier], color='r')\n",
    "plt.show()"
   ]
  },
  {
   "cell_type": "code",
   "execution_count": 31,
   "id": "24c4de69-a3f8-40b1-a864-d62b4cd7bb99",
   "metadata": {},
   "outputs": [
    {
     "data": {
      "text/html": [
       "<div>\n",
       "<style scoped>\n",
       "    .dataframe tbody tr th:only-of-type {\n",
       "        vertical-align: middle;\n",
       "    }\n",
       "\n",
       "    .dataframe tbody tr th {\n",
       "        vertical-align: top;\n",
       "    }\n",
       "\n",
       "    .dataframe thead th {\n",
       "        text-align: right;\n",
       "    }\n",
       "</style>\n",
       "<table border=\"1\" class=\"dataframe\">\n",
       "  <thead>\n",
       "    <tr style=\"text-align: right;\">\n",
       "      <th></th>\n",
       "      <th>obs</th>\n",
       "      <th>levier</th>\n",
       "    </tr>\n",
       "  </thead>\n",
       "  <tbody>\n",
       "    <tr>\n",
       "      <th>4</th>\n",
       "      <td>5</td>\n",
       "      <td>0.004748</td>\n",
       "    </tr>\n",
       "    <tr>\n",
       "      <th>48</th>\n",
       "      <td>49</td>\n",
       "      <td>0.007353</td>\n",
       "    </tr>\n",
       "    <tr>\n",
       "      <th>52</th>\n",
       "      <td>53</td>\n",
       "      <td>0.010647</td>\n",
       "    </tr>\n",
       "    <tr>\n",
       "      <th>54</th>\n",
       "      <td>55</td>\n",
       "      <td>0.004408</td>\n",
       "    </tr>\n",
       "    <tr>\n",
       "      <th>123</th>\n",
       "      <td>124</td>\n",
       "      <td>0.005865</td>\n",
       "    </tr>\n",
       "    <tr>\n",
       "      <th>...</th>\n",
       "      <td>...</td>\n",
       "      <td>...</td>\n",
       "    </tr>\n",
       "    <tr>\n",
       "      <th>1441</th>\n",
       "      <td>1442</td>\n",
       "      <td>0.005428</td>\n",
       "    </tr>\n",
       "    <tr>\n",
       "      <th>1442</th>\n",
       "      <td>1443</td>\n",
       "      <td>0.004406</td>\n",
       "    </tr>\n",
       "    <tr>\n",
       "      <th>1444</th>\n",
       "      <td>1445</td>\n",
       "      <td>0.004648</td>\n",
       "    </tr>\n",
       "    <tr>\n",
       "      <th>1446</th>\n",
       "      <td>1447</td>\n",
       "      <td>0.004796</td>\n",
       "    </tr>\n",
       "    <tr>\n",
       "      <th>1453</th>\n",
       "      <td>1454</td>\n",
       "      <td>0.004136</td>\n",
       "    </tr>\n",
       "  </tbody>\n",
       "</table>\n",
       "<p>67 rows × 2 columns</p>\n",
       "</div>"
      ],
      "text/plain": [
       "       obs    levier\n",
       "4        5  0.004748\n",
       "48      49  0.007353\n",
       "52      53  0.010647\n",
       "54      55  0.004408\n",
       "123    124  0.005865\n",
       "...    ...       ...\n",
       "1441  1442  0.005428\n",
       "1442  1443  0.004406\n",
       "1444  1445  0.004648\n",
       "1446  1447  0.004796\n",
       "1453  1454  0.004136\n",
       "\n",
       "[67 rows x 2 columns]"
      ]
     },
     "execution_count": 31,
     "metadata": {},
     "output_type": "execute_result"
    }
   ],
   "source": [
    "analyses.loc[analyses['levier'] > seuil_levier, :]"
   ]
  },
  {
   "cell_type": "markdown",
   "id": "3e4b14b4-407e-4b78-8607-59b6fee0b81d",
   "metadata": {},
   "source": [
    "### Calculez les résidus studentisés"
   ]
  },
  {
   "cell_type": "code",
   "execution_count": 32,
   "id": "fc72d4e4-4788-44a6-a207-39a8ff2dad07",
   "metadata": {},
   "outputs": [],
   "source": [
    "analyses['rstudent'] = reg_multi.get_influence().resid_studentized_internal\n",
    "seuil_rstudent = t.ppf(1-alpha/2,n-p-1)"
   ]
  },
  {
   "cell_type": "code",
   "execution_count": 33,
   "id": "cd1897ac-4597-45a3-a7ed-e03fc35588e5",
   "metadata": {},
   "outputs": [
    {
     "data": {
      "image/png": "[encoded data removed]",
      "text/plain": [
       "<Figure size 2000x600 with 1 Axes>"
      ]
     },
     "metadata": {},
     "output_type": "display_data"
    }
   ],
   "source": [
    "plt.figure(figsize=(20,6))\n",
    "plt.bar(analyses['obs'], analyses['rstudent'])\n",
    "plt.xticks(np.arange(0, 1463, step=50))\n",
    "plt.xlabel('Observation')\n",
    "plt.ylabel('Résidus studentisés')\n",
    "plt.plot([0, 1463], [seuil_rstudent, seuil_rstudent], color='r')\n",
    "plt.plot([0, 1463], [-seuil_rstudent, -seuil_rstudent], color='r')\n",
    "plt.show()"
   ]
  },
  {
   "cell_type": "markdown",
   "id": "2ff9ffb3-1417-4002-b9fb-4bd257f1f8d2",
   "metadata": {},
   "source": [
    "### Déterminez la distance de Cook\n",
    "\n",
    "La distance de Cook est un indicateur utilisé pour détecter les observations qui ont une influence excessive sur les résultats d'un modèle statistique."
   ]
  },
  {
   "cell_type": "code",
   "execution_count": 34,
   "id": "552f46ab-b8cb-4fd7-bbf6-02503c7aadb9",
   "metadata": {},
   "outputs": [],
   "source": [
    "influence = reg_multi.get_influence().summary_frame()"
   ]
  },
  {
   "cell_type": "markdown",
   "id": "281fbf0b-4f7e-449e-af95-4667a54f12c0",
   "metadata": {},
   "source": [
    "Le seuil de la distance de Cook est de n-p. "
   ]
  },
  {
   "cell_type": "code",
   "execution_count": 35,
   "id": "1026c260-3481-43e4-874c-831e5af35e24",
   "metadata": {},
   "outputs": [],
   "source": [
    "analyses['dcooks'] = influence['cooks_d']\n",
    "seuil_dcook = 4/(n-p)"
   ]
  },
  {
   "cell_type": "markdown",
   "id": "74915af0-3386-4f75-ba78-76d56592fc17",
   "metadata": {},
   "source": [
    "On peut détecter les observations influentes comme ceci :"
   ]
  },
  {
   "cell_type": "code",
   "execution_count": 36,
   "id": "3cf317fc-1e8b-4090-8c59-6191fb7404e9",
   "metadata": {},
   "outputs": [
    {
     "data": {
      "image/png": "[encoded data removed]",
      "text/plain": [
       "<Figure size 2000x600 with 1 Axes>"
      ]
     },
     "metadata": {},
     "output_type": "display_data"
    }
   ],
   "source": [
    "plt.figure(figsize=(20,6))\n",
    "plt.bar(analyses['obs'], analyses['dcooks'])\n",
    "plt.xticks(np.arange(0, 1463, step=50))\n",
    "plt.xlabel('Observation')\n",
    "plt.ylabel('Leviers')\n",
    "plt.plot([0, 1463], [seuil_dcook, seuil_dcook], color='r')\n",
    "plt.show()"
   ]
  },
  {
   "cell_type": "markdown",
   "id": "8642aa20-7ae6-447b-9deb-f607f5d64794",
   "metadata": {},
   "source": [
    "En effet, on observe bien des valeurs atypiques et/ou influentes dans notre jeu de données On ne retire des points qu'après avoir vérifié qu'ils sont effectivement atypiques, voire aberrants, au vu du modèle estimé."
   ]
  },
  {
   "cell_type": "markdown",
   "id": "67f5da42-b7ff-4270-98e2-4a1d75569a3e",
   "metadata": {},
   "source": [
    "## Hypothéses de validité pour la régression linéaire "
   ]
  },
  {
   "cell_type": "markdown",
   "id": "4c69f226-4805-4895-99b0-09ea32651541",
   "metadata": {},
   "source": [
    "### Vérifier la colinéarité des variables"
   ]
  },
  {
   "cell_type": "code",
   "execution_count": 37,
   "id": "5dedc5a8-d4cc-47d7-b65d-f13685d224be",
   "metadata": {},
   "outputs": [
    {
     "data": {
      "text/plain": [
       "[1.5938854494007748, 1.5938854494007744]"
      ]
     },
     "execution_count": 37,
     "metadata": {},
     "output_type": "execute_result"
    }
   ],
   "source": [
    "variables = reg_multi.model.exog\n",
    "[variance_inflation_factor(variables, i) for i in np.arange(1,variables.shape[1])]"
   ]
  },
  {
   "cell_type": "markdown",
   "id": "5fe7e0e8-ef46-4fa2-aaea-7071b60948ac",
   "metadata": {},
   "source": [
    "Ici, tous les coefficients sont inférieurs à 10, il n'y a donc pas de problème de colinéarité.\n",
    "\n",
    "### Testez l’homoscédasticité\n",
    "\n",
    "On peut également tester l’homoscédasticité (c'est-à-dire la constance de la variance) des résidus :"
   ]
  },
  {
   "cell_type": "code",
   "execution_count": 38,
   "id": "8190ce7b-bb8b-46aa-b5b5-2e14f52613ec",
   "metadata": {},
   "outputs": [
    {
     "name": "stdout",
     "output_type": "stream",
     "text": [
      "p value test Breusch Pagan: 3.2033559115836335e-36\n"
     ]
    }
   ],
   "source": [
    "_, pval, __, f_pval = statsmodels.stats.diagnostic.het_breuschpagan(reg_multi.resid, variables)\n",
    "print('p value test Breusch Pagan:', pval)"
   ]
  },
  {
   "cell_type": "markdown",
   "id": "1698bf6f-d128-46df-9881-a3938515c859",
   "metadata": {},
   "source": [
    "La p-valeur ici est inférieure à $5$%, on  rejette alors l'hypothèse $H0$ selon laquelle les variances sont constantes (l'hypothèse d’homoscédasticité).\n",
    "\n",
    "### Testez la normalité des résidus\n"
   ]
  },
  {
   "cell_type": "code",
   "execution_count": 39,
   "id": "39b7d2bc-1380-4e69-9283-25630a9a7eff",
   "metadata": {},
   "outputs": [
    {
     "data": {
      "text/plain": [
       "<AxesSubplot:xlabel='margin_low', ylabel='Density'>"
      ]
     },
     "execution_count": 39,
     "metadata": {},
     "output_type": "execute_result"
    },
    {
     "data": {
      "image/png": "[encoded data removed]",
      "text/plain": [
       "<Figure size 640x480 with 1 Axes>"
      ]
     },
     "metadata": {},
     "output_type": "display_data"
    }
   ],
   "source": [
    "residus = y-y_pred\n",
    "residus\n",
    "sns.distplot(residus)"
   ]
  },
  {
   "cell_type": "markdown",
   "id": "30180ccb-23d1-49da-893b-56bb62bed451",
   "metadata": {},
   "source": [
    "Le graphique ci-dessus donne l'impression à première vue que la distribution des résidus est normale, cependant il est important de ne pas se fier uniquement à l'apparence de celui-ci pour déterminer si la distribution est normale ou non. Ainsi, il existe des tests statistiques qui peuvent être utilisés pour le vérifier, tel que le test de Shapiro-Wilk ci-dessous ou encore d'autres méthodes graphiques (ex: Q-Q plot)"
   ]
  },
  {
   "cell_type": "code",
   "execution_count": 40,
   "id": "aeb03a49-e09e-4c32-9304-0fc60aa90e74",
   "metadata": {},
   "outputs": [
    {
     "name": "stdout",
     "output_type": "stream",
     "text": [
      "Statistics=0.994, pvalue=0.000\n",
      "Les résidus ne sont pas normalement distribués (reject H0)\n"
     ]
    }
   ],
   "source": [
    "# Shapiro-Wilk test\n",
    "\n",
    "stat, p = shapiro(residus)\n",
    "print('Statistics=%.3f, pvalue=%.3f' % (stat, p))\n",
    "\n",
    "alpha = 0.05\n",
    "if p > alpha:\n",
    "    print('Les résidus sont normalement distribués (fail to reject H0)')\n",
    "else:\n",
    "    print('Les résidus ne sont pas normalement distribués (reject H0)')"
   ]
  },
  {
   "cell_type": "code",
   "execution_count": 41,
   "id": "9c81b8b8-c4b5-41a0-93aa-b7e5078643f7",
   "metadata": {},
   "outputs": [
    {
     "data": {
      "text/plain": [
       "ShapiroResult(statistic=0.9936248064041138, pvalue=6.20942773821298e-06)"
      ]
     },
     "execution_count": 41,
     "metadata": {},
     "output_type": "execute_result"
    }
   ],
   "source": [
    "shapiro(reg_multi.resid)"
   ]
  },
  {
   "cell_type": "markdown",
   "id": "9db790b6-5895-4073-b267-7205e99912f0",
   "metadata": {},
   "source": [
    "Ici, l'hypothèse de normalité est remise en cause (p-value = 6.20942773821298e-06 < 0.05)."
   ]
  },
  {
   "cell_type": "code",
   "execution_count": 42,
   "id": "3779580a-8a49-495d-9650-54bf606ddb41",
   "metadata": {},
   "outputs": [
    {
     "data": {
      "image/png": "[encoded data removed]",
      "text/plain": [
       "<Figure size 640x480 with 1 Axes>"
      ]
     },
     "metadata": {},
     "output_type": "display_data"
    }
   ],
   "source": [
    "# Autre méthode graphique pour déterminer si les données suivent une distribution normale.\n",
    "\n",
    "sm.qqplot(residus, line = \"r\")\n",
    "plt.show()"
   ]
  },
  {
   "cell_type": "markdown",
   "id": "8219b293-e0ce-4c18-9a3a-b41576061721",
   "metadata": {},
   "source": [
    "Confirmation par le graphique ci-dessus que la distribution des résidus n'est pas normalement distribuée: les points ne sont pas totalement alignés le long de la droite de référence rouge.\n",
    "\n",
    "Néanmoins, l'observation des résidus, le fait qu'ils ne soient pas très différents d'une distribution symétrique, et le fait que l'échantillon soit de taille suffisante (supérieure à 30) permettent de dire que **les résultats obtenus par le modèle linéaire gaussien ne sont pas absurdes**, même si le résidu n'est pas considéré comme étant gaussien."
   ]
  },
  {
   "cell_type": "markdown",
   "id": "e03d0f55-18b1-42d8-9b58-4e1d571c3cdb",
   "metadata": {},
   "source": [
    "En conclusion bien que deux des hypothéses de validité pour la régression linéaire (homoscédasticité et normalité des résidus)\n",
    "ne soient pas valides, nous nous servirons des résultats obtenus pour remplacer les valeurs manquantes de notre jeu de données.\n",
    "En pratique, il faudrait agir pour remédier à cela, par exemple en transformant les variables (ex: fonction logarithme pour la normalité) ou encore en utilisant des modèles plus robustes (ex: régression linéaire robuste pour l'hétéroscédasticité),..."
   ]
  },
  {
   "cell_type": "markdown",
   "id": "0fda569a-af7f-4b64-97e1-2a81bfe4df1a",
   "metadata": {},
   "source": [
    "## Remplacement des valeurs manquantes par les valeurs prédites"
   ]
  },
  {
   "cell_type": "code",
   "execution_count": 43,
   "id": "0d35e854-056d-4dd5-9c6a-1cf91e43b90e",
   "metadata": {},
   "outputs": [],
   "source": [
    "data.loc[data.margin_low.isnull(), 'margin_low'] = predictions"
   ]
  },
  {
   "cell_type": "code",
   "execution_count": 44,
   "id": "1c70c017-a674-4017-9489-5c7e7d60d4fb",
   "metadata": {},
   "outputs": [
    {
     "data": {
      "text/html": [
       "<div>\n",
       "<style scoped>\n",
       "    .dataframe tbody tr th:only-of-type {\n",
       "        vertical-align: middle;\n",
       "    }\n",
       "\n",
       "    .dataframe tbody tr th {\n",
       "        vertical-align: top;\n",
       "    }\n",
       "\n",
       "    .dataframe thead th {\n",
       "        text-align: right;\n",
       "    }\n",
       "</style>\n",
       "<table border=\"1\" class=\"dataframe\">\n",
       "  <thead>\n",
       "    <tr style=\"text-align: right;\">\n",
       "      <th></th>\n",
       "      <th>is_genuine</th>\n",
       "      <th>diagonal</th>\n",
       "      <th>height_left</th>\n",
       "      <th>height_right</th>\n",
       "      <th>margin_low</th>\n",
       "      <th>margin_up</th>\n",
       "      <th>length</th>\n",
       "    </tr>\n",
       "  </thead>\n",
       "  <tbody>\n",
       "    <tr>\n",
       "      <th>0</th>\n",
       "      <td>1</td>\n",
       "      <td>171.81</td>\n",
       "      <td>104.86</td>\n",
       "      <td>104.95</td>\n",
       "      <td>4.52</td>\n",
       "      <td>2.89</td>\n",
       "      <td>112.83</td>\n",
       "    </tr>\n",
       "    <tr>\n",
       "      <th>1</th>\n",
       "      <td>1</td>\n",
       "      <td>171.46</td>\n",
       "      <td>103.36</td>\n",
       "      <td>103.66</td>\n",
       "      <td>3.77</td>\n",
       "      <td>2.99</td>\n",
       "      <td>113.09</td>\n",
       "    </tr>\n",
       "    <tr>\n",
       "      <th>2</th>\n",
       "      <td>1</td>\n",
       "      <td>172.69</td>\n",
       "      <td>104.48</td>\n",
       "      <td>103.50</td>\n",
       "      <td>4.40</td>\n",
       "      <td>2.94</td>\n",
       "      <td>113.16</td>\n",
       "    </tr>\n",
       "    <tr>\n",
       "      <th>3</th>\n",
       "      <td>1</td>\n",
       "      <td>171.36</td>\n",
       "      <td>103.91</td>\n",
       "      <td>103.94</td>\n",
       "      <td>3.62</td>\n",
       "      <td>3.01</td>\n",
       "      <td>113.51</td>\n",
       "    </tr>\n",
       "    <tr>\n",
       "      <th>4</th>\n",
       "      <td>1</td>\n",
       "      <td>171.73</td>\n",
       "      <td>104.28</td>\n",
       "      <td>103.46</td>\n",
       "      <td>4.04</td>\n",
       "      <td>3.48</td>\n",
       "      <td>112.54</td>\n",
       "    </tr>\n",
       "    <tr>\n",
       "      <th>...</th>\n",
       "      <td>...</td>\n",
       "      <td>...</td>\n",
       "      <td>...</td>\n",
       "      <td>...</td>\n",
       "      <td>...</td>\n",
       "      <td>...</td>\n",
       "      <td>...</td>\n",
       "    </tr>\n",
       "    <tr>\n",
       "      <th>1495</th>\n",
       "      <td>0</td>\n",
       "      <td>171.75</td>\n",
       "      <td>104.38</td>\n",
       "      <td>104.17</td>\n",
       "      <td>4.42</td>\n",
       "      <td>3.09</td>\n",
       "      <td>111.28</td>\n",
       "    </tr>\n",
       "    <tr>\n",
       "      <th>1496</th>\n",
       "      <td>0</td>\n",
       "      <td>172.19</td>\n",
       "      <td>104.63</td>\n",
       "      <td>104.44</td>\n",
       "      <td>5.27</td>\n",
       "      <td>3.37</td>\n",
       "      <td>110.97</td>\n",
       "    </tr>\n",
       "    <tr>\n",
       "      <th>1497</th>\n",
       "      <td>0</td>\n",
       "      <td>171.80</td>\n",
       "      <td>104.01</td>\n",
       "      <td>104.12</td>\n",
       "      <td>5.51</td>\n",
       "      <td>3.36</td>\n",
       "      <td>111.95</td>\n",
       "    </tr>\n",
       "    <tr>\n",
       "      <th>1498</th>\n",
       "      <td>0</td>\n",
       "      <td>172.06</td>\n",
       "      <td>104.28</td>\n",
       "      <td>104.06</td>\n",
       "      <td>5.17</td>\n",
       "      <td>3.46</td>\n",
       "      <td>112.25</td>\n",
       "    </tr>\n",
       "    <tr>\n",
       "      <th>1499</th>\n",
       "      <td>0</td>\n",
       "      <td>171.47</td>\n",
       "      <td>104.15</td>\n",
       "      <td>103.82</td>\n",
       "      <td>4.63</td>\n",
       "      <td>3.37</td>\n",
       "      <td>112.07</td>\n",
       "    </tr>\n",
       "  </tbody>\n",
       "</table>\n",
       "<p>1500 rows × 7 columns</p>\n",
       "</div>"
      ],
      "text/plain": [
       "      is_genuine  diagonal  height_left  height_right  margin_low  margin_up  \\\n",
       "0              1    171.81       104.86        104.95        4.52       2.89   \n",
       "1              1    171.46       103.36        103.66        3.77       2.99   \n",
       "2              1    172.69       104.48        103.50        4.40       2.94   \n",
       "3              1    171.36       103.91        103.94        3.62       3.01   \n",
       "4              1    171.73       104.28        103.46        4.04       3.48   \n",
       "...          ...       ...          ...           ...         ...        ...   \n",
       "1495           0    171.75       104.38        104.17        4.42       3.09   \n",
       "1496           0    172.19       104.63        104.44        5.27       3.37   \n",
       "1497           0    171.80       104.01        104.12        5.51       3.36   \n",
       "1498           0    172.06       104.28        104.06        5.17       3.46   \n",
       "1499           0    171.47       104.15        103.82        4.63       3.37   \n",
       "\n",
       "      length  \n",
       "0     112.83  \n",
       "1     113.09  \n",
       "2     113.16  \n",
       "3     113.51  \n",
       "4     112.54  \n",
       "...      ...  \n",
       "1495  111.28  \n",
       "1496  110.97  \n",
       "1497  111.95  \n",
       "1498  112.25  \n",
       "1499  112.07  \n",
       "\n",
       "[1500 rows x 7 columns]"
      ]
     },
     "execution_count": 44,
     "metadata": {},
     "output_type": "execute_result"
    }
   ],
   "source": [
    "data"
   ]
  },
  {
   "cell_type": "code",
   "execution_count": 45,
   "id": "cbed782a-8afc-42d0-a08b-6ec8b6103833",
   "metadata": {},
   "outputs": [
    {
     "data": {
      "text/plain": [
       "is_genuine      0\n",
       "diagonal        0\n",
       "height_left     0\n",
       "height_right    0\n",
       "margin_low      0\n",
       "margin_up       0\n",
       "length          0\n",
       "dtype: int64"
      ]
     },
     "execution_count": 45,
     "metadata": {},
     "output_type": "execute_result"
    }
   ],
   "source": [
    "# Vérification du nombre de valeurs manquantes dans le dataframe data: plus de valeurs manquantes.\n",
    "\n",
    "data.isnull().sum()"
   ]
  },
  {
   "cell_type": "markdown",
   "id": "0de27bb9-1678-427f-b585-dbb3cb8edd91",
   "metadata": {},
   "source": [
    "## Analyse descriptive"
   ]
  },
  {
   "cell_type": "code",
   "execution_count": 46,
   "id": "bf598e19-7549-4e4e-b8eb-22af46e9a43e",
   "metadata": {},
   "outputs": [],
   "source": [
    "# Retour en booléen de la variable \"is_genuine\"\n",
    "\n",
    "data[\"is_genuine\"] = data[\"is_genuine\"].eq(0)"
   ]
  },
  {
   "cell_type": "code",
   "execution_count": 47,
   "id": "a42653bc-1580-47b9-b331-d864a70da186",
   "metadata": {},
   "outputs": [
    {
     "data": {
      "text/plain": [
       "is_genuine         bool\n",
       "diagonal        float64\n",
       "height_left     float64\n",
       "height_right    float64\n",
       "margin_low      float64\n",
       "margin_up       float64\n",
       "length          float64\n",
       "dtype: object"
      ]
     },
     "execution_count": 47,
     "metadata": {},
     "output_type": "execute_result"
    }
   ],
   "source": [
    "data.dtypes"
   ]
  },
  {
   "cell_type": "code",
   "execution_count": 48,
   "id": "5fbe1a3c-d07f-48b4-ba14-b9a9a5451b8c",
   "metadata": {},
   "outputs": [
    {
     "name": "stdout",
     "output_type": "stream",
     "text": [
      "Il y a 500 vrais billets dans notre jeux de données\n",
      "Il y a 1000 faux billets dans notre jeux de données\n"
     ]
    }
   ],
   "source": [
    "# Nombre de billets dans le dataset\n",
    "\n",
    "Vrais = sum(data['is_genuine']==True)\n",
    "Faux = sum(data['is_genuine']==False)\n",
    "\n",
    "print(f'Il y a {Vrais} vrais billets dans notre jeux de données')\n",
    "print(f'Il y a {Faux} faux billets dans notre jeux de données')"
   ]
  },
  {
   "cell_type": "code",
   "execution_count": 49,
   "id": "2df9924a-a096-4832-8b6b-327932a82719",
   "metadata": {
    "tags": []
   },
   "outputs": [
    {
     "data": {
      "image/png": "[encoded data removed]",
      "text/plain": [
       "<Figure size 800x1200 with 6 Axes>"
      ]
     },
     "metadata": {},
     "output_type": "display_data"
    }
   ],
   "source": [
    "# Boîtes à moustaches pour chaque variable en fonction de la variable \"is_genuine\"\n",
    "\n",
    "fig, axes = plt.subplots(3, 2, figsize=(8, 12))\n",
    "plt.subplots_adjust(wspace=1.5, hspace=0.5)\n",
    "palette = {True: \"b\", False: \"r\"}\n",
    "\n",
    "variables = [\"diagonal\", \"height_left\", \"height_right\", \"margin_low\", \"margin_up\", \"length\"]\n",
    "for i, variable in enumerate(variables):\n",
    "    sns.boxplot(x=\"is_genuine\", y=variable, data=data, palette=palette, ax=axes[i//2][i%2])\n",
    "    axes[i//2][i%2].set_ylabel(\"Dimensions (mm)\", size=10)\n",
    "    axes[i//2][i%2].set_xlabel(\"\", size=10)\n",
    "    axes[i//2][i%2].set_title(f\"Authenticité des billets selon {variable}\", size=12)"
   ]
  },
  {
   "cell_type": "code",
   "execution_count": 50,
   "id": "164a2525-64a8-47f4-8210-ce91fb74407f",
   "metadata": {},
   "outputs": [
    {
     "name": "stdout",
     "output_type": "stream",
     "text": [
      "\u001b[1mMean:\u001b[0m\n",
      "diagonal        171.958440\n",
      "height_left     104.029533\n",
      "height_right    103.920307\n",
      "margin_low        4.482863\n",
      "margin_up         3.151473\n",
      "length          112.678500\n",
      "dtype: float64\n",
      "\u001b[1m\n",
      "Median:\u001b[0m\n",
      "diagonal        171.96\n",
      "height_left     104.04\n",
      "height_right    103.92\n",
      "margin_low        4.31\n",
      "margin_up         3.14\n",
      "length          112.96\n",
      "dtype: float64\n",
      "\u001b[1m\n",
      "Standard deviation:\u001b[0m\n",
      "diagonal        0.305195\n",
      "height_left     0.299462\n",
      "height_right    0.325627\n",
      "margin_low      0.659849\n",
      "margin_up       0.231813\n",
      "length          0.872730\n",
      "dtype: float64\n",
      "\u001b[1m\n",
      "Min and Max:\u001b[0m\n",
      "diagonal        171.04\n",
      "height_left     103.14\n",
      "height_right    102.82\n",
      "margin_low        2.98\n",
      "margin_up         2.27\n",
      "length          109.49\n",
      "dtype: float64\n",
      "diagonal        173.01\n",
      "height_left     104.88\n",
      "height_right    104.95\n",
      "margin_low        6.90\n",
      "margin_up         3.91\n",
      "length          114.44\n",
      "dtype: float64\n",
      "\u001b[1m\n",
      "Percentiles:\u001b[0m\n",
      "      diagonal  height_left  height_right  margin_low  margin_up  length\n",
      "0.25    171.75       103.82        103.71      4.0275       2.99  112.03\n",
      "0.50    171.96       104.04        103.92      4.3100       3.14  112.96\n",
      "0.75    172.17       104.23        104.15      4.8700       3.31  113.34\n"
     ]
    }
   ],
   "source": [
    "# Statistiques diverses sur les variables du dataset\n",
    "\n",
    "data1 = data['diagonal']\n",
    "data2 = data['height_left']\n",
    "data3 = data['height_right']\n",
    "data4 = data['margin_low']\n",
    "data5 = data['margin_up']\n",
    "data6 = data['length']\n",
    "data7 =data['is_genuine']\n",
    "\n",
    "data_A = {'diagonal': data1,\n",
    "          'height_left': data2,\n",
    "          'height_right': data3,\n",
    "          'margin_low': data4,\n",
    "          'margin_up': data5,\n",
    "          'length': data6,\n",
    "          'is_genuine': data7}\n",
    "\n",
    "df = pd.DataFrame(data_A)\n",
    "\n",
    "df_without_is_genuine = df.drop('is_genuine', axis=1)\n",
    "\n",
    "print(\"\\033[1mMean:\\033[0m\")\n",
    "print(df_without_is_genuine.mean())\n",
    "\n",
    "print(\"\\033[1m\\nMedian:\\033[0m\")\n",
    "print(df_without_is_genuine.median())\n",
    "\n",
    "print(\"\\033[1m\\nStandard deviation:\\033[0m\")\n",
    "print(df_without_is_genuine.std())\n",
    "\n",
    "print(\"\\033[1m\\nMin and Max:\\033[0m\")\n",
    "print(df_without_is_genuine.min())\n",
    "print(df_without_is_genuine.max())\n",
    "\n",
    "print(\"\\033[1m\\nPercentiles:\\033[0m\")\n",
    "print(df_without_is_genuine.quantile([0.25, 0.5, 0.75]))"
   ]
  },
  {
   "cell_type": "code",
   "execution_count": 51,
   "id": "42494d60-4fd6-4a2b-8aa7-a61a59722c5c",
   "metadata": {},
   "outputs": [
    {
     "name": "stdout",
     "output_type": "stream",
     "text": [
      "\u001b[1mMean par authenticité:\u001b[0m\n",
      "             diagonal  height_left  height_right  margin_low  margin_up  \\\n",
      "is_genuine                                                                \n",
      "False       171.98708    103.94913     103.80865    4.116185    3.05213   \n",
      "True        171.90116    104.19034     104.14362    5.216220    3.35016   \n",
      "\n",
      "               length  \n",
      "is_genuine             \n",
      "False       113.20243  \n",
      "True        111.63064  \n",
      "\u001b[1m\n",
      "Median par authenticité:\u001b[0m\n",
      "            diagonal  height_left  height_right  margin_low  margin_up  \\\n",
      "is_genuine                                                               \n",
      "False         171.99       103.95        103.81    4.112397       3.05   \n",
      "True          171.91       104.18        104.16    5.195000       3.35   \n",
      "\n",
      "             length  \n",
      "is_genuine           \n",
      "False       113.205  \n",
      "True        111.630  \n",
      "\u001b[1m\n",
      "Standard deviation par authenticité:\u001b[0m\n",
      "            diagonal  height_left  height_right  margin_low  margin_up  \\\n",
      "is_genuine                                                               \n",
      "False       0.300441     0.300231      0.291570    0.314554   0.186340   \n",
      "True        0.306861     0.223758      0.270878    0.549114   0.180498   \n",
      "\n",
      "              length  \n",
      "is_genuine            \n",
      "False       0.359552  \n",
      "True        0.615543  \n",
      "\u001b[1m\n",
      "Min and Max par authenticité:\u001b[0m\n",
      "            diagonal  height_left  height_right  margin_low  margin_up  length\n",
      "is_genuine                                                                    \n",
      "False         171.04       103.14        102.82        2.98       2.27  111.76\n",
      "True          171.04       103.51        103.43        3.82       2.92  109.49\n",
      "            diagonal  height_left  height_right  margin_low  margin_up  length\n",
      "is_genuine                                                                    \n",
      "False         172.92       104.86        104.95        5.04       3.74  114.44\n",
      "True          173.01       104.88        104.95        6.90       3.91  113.85\n",
      "\u001b[1m\n",
      "Percentiles par authenticité:\u001b[0m\n",
      "                 diagonal  height_left  height_right  margin_low  margin_up  \\\n",
      "is_genuine                                                                    \n",
      "False      0.25  171.7900     103.7400        103.61    3.910000     2.9300   \n",
      "           0.50  171.9900     103.9500        103.81    4.112397     3.0500   \n",
      "           0.75  172.2000     104.1400        104.00    4.330000     3.1800   \n",
      "True       0.25  171.6900     104.0400        103.95    4.840000     3.2200   \n",
      "           0.50  171.9100     104.1800        104.16    5.195000     3.3500   \n",
      "           0.75  172.0925     104.3325        104.32    5.590000     3.4725   \n",
      "\n",
      "                  length  \n",
      "is_genuine                \n",
      "False      0.25  112.950  \n",
      "           0.50  113.205  \n",
      "           0.75  113.460  \n",
      "True       0.25  111.200  \n",
      "           0.50  111.630  \n",
      "           0.75  112.030  \n"
     ]
    }
   ],
   "source": [
    "# Statistiques diverses sur les variables du dataset selon la variable is_genuine\n",
    "\n",
    "grouped = df.groupby('is_genuine')\n",
    "\n",
    "print(\"\\033[1mMean par authenticité:\\033[0m\")\n",
    "print(grouped.mean())\n",
    "\n",
    "print(\"\\033[1m\\nMedian par authenticité:\\033[0m\")\n",
    "print(grouped.median())\n",
    "\n",
    "print(\"\\033[1m\\nStandard deviation par authenticité:\\033[0m\")\n",
    "print(grouped.std())\n",
    "\n",
    "print(\"\\033[1m\\nMin and Max par authenticité:\\033[0m\")\n",
    "print(grouped.min())\n",
    "print(grouped.max())\n",
    "\n",
    "print(\"\\033[1m\\nPercentiles par authenticité:\\033[0m\")\n",
    "print(grouped.quantile([0.25, 0.5, 0.75]))"
   ]
  },
  {
   "cell_type": "code",
   "execution_count": 52,
   "id": "23510fff-dac7-4673-9728-5bca293c26f6",
   "metadata": {},
   "outputs": [
    {
     "data": {
      "image/png": "[encoded data removed]",
      "text/plain": [
       "<Figure size 1500x700 with 6 Axes>"
      ]
     },
     "metadata": {},
     "output_type": "display_data"
    }
   ],
   "source": [
    "# Observation de la distribution des variables\n",
    "\n",
    "data_B = [data1, data2, data3, data4, data5, data6]\n",
    "\n",
    "fig, ax = plt.subplots(2, 3, figsize=(15, 7))\n",
    "ax = ax.ravel()\n",
    "for i, d in enumerate(data_B):\n",
    "    sns.distplot(d, hist=True, kde=True,\n",
    "             bins=int(180/5), color = 'darkblue', \n",
    "             hist_kws={'edgecolor':'black'},\n",
    "             kde_kws={'linewidth': 4},ax=ax[i])\n",
    "   \n",
    "plt.show()"
   ]
  },
  {
   "cell_type": "markdown",
   "id": "d694888e-1d57-47de-a8cc-77d101bc1de5",
   "metadata": {},
   "source": [
    "# Classification/Régression logistique"
   ]
  },
  {
   "cell_type": "markdown",
   "id": "a7661890-cfa0-41b5-a79f-80e7a5001d8a",
   "metadata": {},
   "source": [
    "## Significativité  des variables"
   ]
  },
  {
   "cell_type": "code",
   "execution_count": 53,
   "id": "3175f62d-7311-40a4-a863-7e8d574bc32c",
   "metadata": {},
   "outputs": [
    {
     "name": "stdout",
     "output_type": "stream",
     "text": [
      "                             Generalized Linear Model Regression Results                             \n",
      "=====================================================================================================\n",
      "Dep. Variable:     ['is_genuine[False]', 'is_genuine[True]']   No. Observations:                 1500\n",
      "Model:                                                   GLM   Df Residuals:                     1495\n",
      "Model Family:                                       Binomial   Df Model:                            4\n",
      "Link Function:                                         Logit   Scale:                          1.0000\n",
      "Method:                                                 IRLS   Log-Likelihood:                -40.175\n",
      "Date:                                       Sat, 28 Jan 2023   Deviance:                       80.351\n",
      "Time:                                               07:07:50   Pearson chi2:                 3.42e+03\n",
      "No. Iterations:                                           10   Pseudo R-squ. (CS):             0.7046\n",
      "Covariance Type:                                   nonrobust                                         \n",
      "================================================================================\n",
      "                   coef    std err          z      P>|z|      [0.025      0.975]\n",
      "--------------------------------------------------------------------------------\n",
      "Intercept     -282.6640    139.403     -2.028      0.043    -555.889      -9.439\n",
      "height_right    -3.3497      1.123     -2.983      0.003      -5.550      -1.149\n",
      "margin_low      -6.3059      0.963     -6.550      0.000      -8.193      -4.419\n",
      "length           6.1595      0.889      6.932      0.000       4.418       7.901\n",
      "margin_up      -10.4072      2.197     -4.737      0.000     -14.713      -6.101\n",
      "================================================================================\n"
     ]
    }
   ],
   "source": [
    "reg_log = smf.glm('is_genuine~height_right+margin_low+length+margin_up', \n",
    "                  data=data, family=sm.families.Binomial()).fit()\n",
    "print(reg_log.summary())"
   ]
  },
  {
   "cell_type": "markdown",
   "id": "66c74316-8e8d-4de4-8716-97fcf283d2a8",
   "metadata": {},
   "source": [
    "**Les quatre variables significatives (dont la p-valeur ici est inférieure à 5%) sont 'height_right', 'margin_low', 'length'et 'margin_up'.**"
   ]
  },
  {
   "cell_type": "markdown",
   "id": "84ecdc95-fe90-4031-982d-3edd9cca0e8e",
   "metadata": {},
   "source": [
    "## Mise en place du modèle"
   ]
  },
  {
   "cell_type": "code",
   "execution_count": 54,
   "id": "2960b42d-3060-4ab1-9425-cbd0b6f08387",
   "metadata": {},
   "outputs": [
    {
     "name": "stdout",
     "output_type": "stream",
     "text": [
      "   height_right  margin_low  length  margin_up\n",
      "0        104.95        4.52  112.83       2.89\n",
      "1        103.66        3.77  113.09       2.99\n",
      "2        103.50        4.40  113.16       2.94\n",
      "3        103.94        3.62  113.51       3.01\n",
      "4        103.46        4.04  112.54       3.48\n",
      "   is_genuine\n",
      "0       False\n",
      "1       False\n",
      "2       False\n",
      "3       False\n",
      "4       False\n"
     ]
    }
   ],
   "source": [
    "# Préparation des données\n",
    "\n",
    "variables_significatives = ['height_right', 'margin_low', 'length','margin_up']\n",
    "\n",
    "X=data[variables_significatives] # Variables d'entrée \n",
    "y=data.iloc[:,:1] # Variable cible\n",
    "\n",
    "print(X.head())\n",
    "print(y.head())"
   ]
  },
  {
   "cell_type": "code",
   "execution_count": 55,
   "id": "2f558455-3096-45b4-bfb2-e1aa66fa18c7",
   "metadata": {
    "tags": []
   },
   "outputs": [],
   "source": [
    "std_scale = preprocessing.StandardScaler()"
   ]
  },
  {
   "cell_type": "code",
   "execution_count": 56,
   "id": "28bea58b-0853-4e79-aefb-3644b7fe9c9b",
   "metadata": {},
   "outputs": [],
   "source": [
    "X = std_scale.fit_transform(X)"
   ]
  },
  {
   "cell_type": "code",
   "execution_count": 57,
   "id": "601c23ba-67e2-4ce2-a84e-ee96e55f53cc",
   "metadata": {},
   "outputs": [
    {
     "name": "stdout",
     "output_type": "stream",
     "text": [
      "(1200, 4)\n",
      "(300, 4)\n"
     ]
    }
   ],
   "source": [
    "# Division de la base de données et constitution d'un training set et d'un test set\n",
    "\n",
    "X_train,X_test, y_train,y_test=train_test_split(X,y,test_size=0.2,random_state=42)\n",
    "\n",
    "print(X_train.shape)\n",
    "print(X_test.shape)      "
   ]
  },
  {
   "cell_type": "code",
   "execution_count": 58,
   "id": "2794000e-0cb3-4c2a-9d33-91472f2e8e7b",
   "metadata": {},
   "outputs": [
    {
     "data": {
      "text/html": [
       "<div>\n",
       "<style scoped>\n",
       "    .dataframe tbody tr th:only-of-type {\n",
       "        vertical-align: middle;\n",
       "    }\n",
       "\n",
       "    .dataframe tbody tr th {\n",
       "        vertical-align: top;\n",
       "    }\n",
       "\n",
       "    .dataframe thead th {\n",
       "        text-align: right;\n",
       "    }\n",
       "</style>\n",
       "<table border=\"1\" class=\"dataframe\">\n",
       "  <thead>\n",
       "    <tr style=\"text-align: right;\">\n",
       "      <th></th>\n",
       "      <th>is_genuine</th>\n",
       "    </tr>\n",
       "  </thead>\n",
       "  <tbody>\n",
       "    <tr>\n",
       "      <th>382</th>\n",
       "      <td>False</td>\n",
       "    </tr>\n",
       "    <tr>\n",
       "      <th>538</th>\n",
       "      <td>False</td>\n",
       "    </tr>\n",
       "    <tr>\n",
       "      <th>1493</th>\n",
       "      <td>True</td>\n",
       "    </tr>\n",
       "    <tr>\n",
       "      <th>1112</th>\n",
       "      <td>True</td>\n",
       "    </tr>\n",
       "    <tr>\n",
       "      <th>324</th>\n",
       "      <td>False</td>\n",
       "    </tr>\n",
       "    <tr>\n",
       "      <th>...</th>\n",
       "      <td>...</td>\n",
       "    </tr>\n",
       "    <tr>\n",
       "      <th>1130</th>\n",
       "      <td>True</td>\n",
       "    </tr>\n",
       "    <tr>\n",
       "      <th>1294</th>\n",
       "      <td>True</td>\n",
       "    </tr>\n",
       "    <tr>\n",
       "      <th>860</th>\n",
       "      <td>False</td>\n",
       "    </tr>\n",
       "    <tr>\n",
       "      <th>1459</th>\n",
       "      <td>True</td>\n",
       "    </tr>\n",
       "    <tr>\n",
       "      <th>1126</th>\n",
       "      <td>True</td>\n",
       "    </tr>\n",
       "  </tbody>\n",
       "</table>\n",
       "<p>1200 rows × 1 columns</p>\n",
       "</div>"
      ],
      "text/plain": [
       "      is_genuine\n",
       "382        False\n",
       "538        False\n",
       "1493        True\n",
       "1112        True\n",
       "324        False\n",
       "...          ...\n",
       "1130        True\n",
       "1294        True\n",
       "860        False\n",
       "1459        True\n",
       "1126        True\n",
       "\n",
       "[1200 rows x 1 columns]"
      ]
     },
     "execution_count": 58,
     "metadata": {},
     "output_type": "execute_result"
    }
   ],
   "source": [
    "y_train"
   ]
  },
  {
   "cell_type": "code",
   "execution_count": 59,
   "id": "93812d28-4611-4b9e-a23b-e12d9dbaa798",
   "metadata": {},
   "outputs": [
    {
     "data": {
      "text/plain": [
       "LogisticRegression()"
      ]
     },
     "execution_count": 59,
     "metadata": {},
     "output_type": "execute_result"
    }
   ],
   "source": [
    "# Création du modèle et entrainement sur le train set\n",
    "\n",
    "model = LogisticRegression()\n",
    "model.fit(X_train,y_train)"
   ]
  },
  {
   "cell_type": "code",
   "execution_count": 60,
   "id": "437f3fcc-93f9-420e-a8fb-c5057a9119f8",
   "metadata": {},
   "outputs": [
    {
     "name": "stdout",
     "output_type": "stream",
     "text": [
      "[ True  True False False False False  True False  True False False  True\n",
      " False  True False  True  True False False False  True  True False  True\n",
      "  True False  True  True  True False  True False  True  True False False\n",
      " False False  True False  True False  True False  True False False False\n",
      " False False False False  True  True False False False False False False\n",
      " False False False False False False False  True  True False False False\n",
      " False False False  True False False False False  True False False False\n",
      " False False False False False False  True False False  True  True False\n",
      " False False  True False False False  True  True False False False  True\n",
      " False False False  True False False False False False False False  True\n",
      " False  True  True False False  True  True False  True False  True False\n",
      "  True  True False False False False False False  True False  True False\n",
      " False  True False  True False False  True  True False  True False  True\n",
      "  True False False False False False  True  True False False  True  True\n",
      " False False False  True False False False False  True False False  True\n",
      " False False False False  True False False False False  True False False\n",
      "  True  True False False False False False False False False False False\n",
      "  True False False False False False False  True False  True False False\n",
      "  True False  True False  True False False False False False False False\n",
      "  True  True  True False False  True  True  True  True  True  True  True\n",
      " False  True False False False False  True  True  True False  True False\n",
      "  True False  True False False False False  True  True False False False\n",
      "  True  True False False  True False False False False  True False  True\n",
      "  True  True False  True  True  True  True False False False False  True\n",
      " False  True False  True False  True False False False  True  True False]\n",
      "      is_genuine\n",
      "1116        True\n",
      "1368        True\n",
      "422        False\n",
      "413        False\n",
      "451        False\n",
      "...          ...\n",
      "983        False\n",
      "799        False\n",
      "1265        True\n",
      "1150        True\n",
      "824        False\n",
      "\n",
      "[300 rows x 1 columns]\n"
     ]
    }
   ],
   "source": [
    "# Application du modèle sur le test set\n",
    "\n",
    "predictions = model.predict(X_test)\n",
    "print(predictions)\n",
    "print(y_test)"
   ]
  },
  {
   "cell_type": "markdown",
   "id": "cfb70d8c-b524-4e52-8807-5fd101e8e0a8",
   "metadata": {},
   "source": [
    "## Evaluation du modèle et Matrice de confusion"
   ]
  },
  {
   "cell_type": "code",
   "execution_count": 61,
   "id": "fcabcdd1-20bb-497d-9ebf-dff5cabd2b27",
   "metadata": {},
   "outputs": [
    {
     "name": "stdout",
     "output_type": "stream",
     "text": [
      "              precision    recall  f1-score   support\n",
      "\n",
      "       False       0.98      1.00      0.99       190\n",
      "        True       1.00      0.97      0.99       110\n",
      "\n",
      "    accuracy                           0.99       300\n",
      "   macro avg       0.99      0.99      0.99       300\n",
      "weighted avg       0.99      0.99      0.99       300\n",
      "\n",
      "0.99\n"
     ]
    }
   ],
   "source": [
    "# Evaluation du modèle\n",
    "\n",
    "print(classification_report(y_test,predictions))\n",
    "print(accuracy_score(y_test,predictions))"
   ]
  },
  {
   "cell_type": "code",
   "execution_count": 62,
   "id": "b99f1d67-5db4-47dc-93dc-fb950925c9da",
   "metadata": {},
   "outputs": [
    {
     "name": "stdout",
     "output_type": "stream",
     "text": [
      "Matrice de confusion:\n",
      "[[190   0]\n",
      " [  3 107]]\n"
     ]
    }
   ],
   "source": [
    "# Calcul de la matrice de confusion\n",
    "\n",
    "cm = confusion_matrix(y_test, predictions, labels=[0,1])\n",
    "print('Matrice de confusion:')\n",
    "print(cm)"
   ]
  },
  {
   "cell_type": "code",
   "execution_count": 63,
   "id": "285e130f-2d35-4546-87e4-57d3cac50e97",
   "metadata": {},
   "outputs": [
    {
     "data": {
      "image/png": "[encoded data removed]",
      "text/plain": [
       "<Figure size 640x480 with 2 Axes>"
      ]
     },
     "metadata": {},
     "output_type": "display_data"
    }
   ],
   "source": [
    "# Représentation graphique de la matrice de confusion\n",
    "\n",
    "sns.heatmap(cm,cmap=\"Blues\", annot=cm, fmt=\"\", xticklabels=['Faux','Vrai'], yticklabels=['Faux','Vrai'])\n",
    "\n",
    "plt.ylabel(\"Actual\")\n",
    "plt.xlabel(\"Predicted\")\n",
    "plt.title('Matrice de confusion', pad=25)\n",
    "plt.show()"
   ]
  },
  {
   "cell_type": "markdown",
   "id": "d0d2ec8b-0250-4b89-bfd3-53bb6e62cbf1",
   "metadata": {},
   "source": [
    "##  Test de déploiement (Application du modèle sur un fichier distinct) & résultats"
   ]
  },
  {
   "cell_type": "code",
   "execution_count": 64,
   "id": "c7b6c915-1eda-4a0b-8dec-d048ae747989",
   "metadata": {},
   "outputs": [
    {
     "data": {
      "text/html": [
       "<div>\n",
       "<style scoped>\n",
       "    .dataframe tbody tr th:only-of-type {\n",
       "        vertical-align: middle;\n",
       "    }\n",
       "\n",
       "    .dataframe tbody tr th {\n",
       "        vertical-align: top;\n",
       "    }\n",
       "\n",
       "    .dataframe thead th {\n",
       "        text-align: right;\n",
       "    }\n",
       "</style>\n",
       "<table border=\"1\" class=\"dataframe\">\n",
       "  <thead>\n",
       "    <tr style=\"text-align: right;\">\n",
       "      <th></th>\n",
       "      <th>diagonal</th>\n",
       "      <th>height_left</th>\n",
       "      <th>height_right</th>\n",
       "      <th>margin_low</th>\n",
       "      <th>margin_up</th>\n",
       "      <th>length</th>\n",
       "      <th>id</th>\n",
       "    </tr>\n",
       "  </thead>\n",
       "  <tbody>\n",
       "    <tr>\n",
       "      <th>0</th>\n",
       "      <td>171.76</td>\n",
       "      <td>104.01</td>\n",
       "      <td>103.54</td>\n",
       "      <td>5.21</td>\n",
       "      <td>3.30</td>\n",
       "      <td>111.42</td>\n",
       "      <td>A_1</td>\n",
       "    </tr>\n",
       "    <tr>\n",
       "      <th>1</th>\n",
       "      <td>171.87</td>\n",
       "      <td>104.17</td>\n",
       "      <td>104.13</td>\n",
       "      <td>6.00</td>\n",
       "      <td>3.31</td>\n",
       "      <td>112.09</td>\n",
       "      <td>A_2</td>\n",
       "    </tr>\n",
       "    <tr>\n",
       "      <th>2</th>\n",
       "      <td>172.00</td>\n",
       "      <td>104.58</td>\n",
       "      <td>104.29</td>\n",
       "      <td>4.99</td>\n",
       "      <td>3.39</td>\n",
       "      <td>111.57</td>\n",
       "      <td>A_3</td>\n",
       "    </tr>\n",
       "    <tr>\n",
       "      <th>3</th>\n",
       "      <td>172.49</td>\n",
       "      <td>104.55</td>\n",
       "      <td>104.34</td>\n",
       "      <td>4.44</td>\n",
       "      <td>3.03</td>\n",
       "      <td>113.20</td>\n",
       "      <td>A_4</td>\n",
       "    </tr>\n",
       "    <tr>\n",
       "      <th>4</th>\n",
       "      <td>171.65</td>\n",
       "      <td>103.63</td>\n",
       "      <td>103.56</td>\n",
       "      <td>3.77</td>\n",
       "      <td>3.16</td>\n",
       "      <td>113.33</td>\n",
       "      <td>A_5</td>\n",
       "    </tr>\n",
       "  </tbody>\n",
       "</table>\n",
       "</div>"
      ],
      "text/plain": [
       "   diagonal  height_left  height_right  margin_low  margin_up  length   id\n",
       "0    171.76       104.01        103.54        5.21       3.30  111.42  A_1\n",
       "1    171.87       104.17        104.13        6.00       3.31  112.09  A_2\n",
       "2    172.00       104.58        104.29        4.99       3.39  111.57  A_3\n",
       "3    172.49       104.55        104.34        4.44       3.03  113.20  A_4\n",
       "4    171.65       103.63        103.56        3.77       3.16  113.33  A_5"
      ]
     },
     "execution_count": 64,
     "metadata": {},
     "output_type": "execute_result"
    }
   ],
   "source": [
    "# Lecture du fichier\n",
    "\n",
    "df = pd.read_csv('billets_production.csv')\n",
    "df"
   ]
  },
  {
   "cell_type": "code",
   "execution_count": 65,
   "id": "08e0f0af-cdb4-41a9-9d16-b01204881bba",
   "metadata": {},
   "outputs": [
    {
     "data": {
      "text/html": [
       "<div>\n",
       "<style scoped>\n",
       "    .dataframe tbody tr th:only-of-type {\n",
       "        vertical-align: middle;\n",
       "    }\n",
       "\n",
       "    .dataframe tbody tr th {\n",
       "        vertical-align: top;\n",
       "    }\n",
       "\n",
       "    .dataframe thead th {\n",
       "        text-align: right;\n",
       "    }\n",
       "</style>\n",
       "<table border=\"1\" class=\"dataframe\">\n",
       "  <thead>\n",
       "    <tr style=\"text-align: right;\">\n",
       "      <th></th>\n",
       "      <th>height_right</th>\n",
       "      <th>margin_low</th>\n",
       "      <th>length</th>\n",
       "      <th>margin_up</th>\n",
       "    </tr>\n",
       "  </thead>\n",
       "  <tbody>\n",
       "    <tr>\n",
       "      <th>0</th>\n",
       "      <td>103.54</td>\n",
       "      <td>5.21</td>\n",
       "      <td>111.42</td>\n",
       "      <td>3.30</td>\n",
       "    </tr>\n",
       "    <tr>\n",
       "      <th>1</th>\n",
       "      <td>104.13</td>\n",
       "      <td>6.00</td>\n",
       "      <td>112.09</td>\n",
       "      <td>3.31</td>\n",
       "    </tr>\n",
       "    <tr>\n",
       "      <th>2</th>\n",
       "      <td>104.29</td>\n",
       "      <td>4.99</td>\n",
       "      <td>111.57</td>\n",
       "      <td>3.39</td>\n",
       "    </tr>\n",
       "    <tr>\n",
       "      <th>3</th>\n",
       "      <td>104.34</td>\n",
       "      <td>4.44</td>\n",
       "      <td>113.20</td>\n",
       "      <td>3.03</td>\n",
       "    </tr>\n",
       "    <tr>\n",
       "      <th>4</th>\n",
       "      <td>103.56</td>\n",
       "      <td>3.77</td>\n",
       "      <td>113.33</td>\n",
       "      <td>3.16</td>\n",
       "    </tr>\n",
       "  </tbody>\n",
       "</table>\n",
       "</div>"
      ],
      "text/plain": [
       "   height_right  margin_low  length  margin_up\n",
       "0        103.54        5.21  111.42       3.30\n",
       "1        104.13        6.00  112.09       3.31\n",
       "2        104.29        4.99  111.57       3.39\n",
       "3        104.34        4.44  113.20       3.03\n",
       "4        103.56        3.77  113.33       3.16"
      ]
     },
     "execution_count": 65,
     "metadata": {},
     "output_type": "execute_result"
    }
   ],
   "source": [
    "Z = df[variables_significatives] # Données de déploiement\n",
    "Z"
   ]
  },
  {
   "cell_type": "code",
   "execution_count": 66,
   "id": "f930241c-3dfa-4a76-b1fd-efb1daa994cb",
   "metadata": {},
   "outputs": [],
   "source": [
    "Z = std_scale.fit_transform(Z)"
   ]
  },
  {
   "cell_type": "code",
   "execution_count": 67,
   "id": "840d0137-a223-4d22-881f-6a2c5d0a718f",
   "metadata": {},
   "outputs": [
    {
     "data": {
      "text/html": [
       "<div>\n",
       "<style scoped>\n",
       "    .dataframe tbody tr th:only-of-type {\n",
       "        vertical-align: middle;\n",
       "    }\n",
       "\n",
       "    .dataframe tbody tr th {\n",
       "        vertical-align: top;\n",
       "    }\n",
       "\n",
       "    .dataframe thead th {\n",
       "        text-align: right;\n",
       "    }\n",
       "</style>\n",
       "<table border=\"1\" class=\"dataframe\">\n",
       "  <thead>\n",
       "    <tr style=\"text-align: right;\">\n",
       "      <th></th>\n",
       "      <th>diagonal</th>\n",
       "      <th>height_left</th>\n",
       "      <th>height_right</th>\n",
       "      <th>margin_low</th>\n",
       "      <th>margin_up</th>\n",
       "      <th>length</th>\n",
       "      <th>id</th>\n",
       "      <th>is_genuine</th>\n",
       "    </tr>\n",
       "  </thead>\n",
       "  <tbody>\n",
       "    <tr>\n",
       "      <th>0</th>\n",
       "      <td>171.76</td>\n",
       "      <td>104.01</td>\n",
       "      <td>103.54</td>\n",
       "      <td>5.21</td>\n",
       "      <td>3.30</td>\n",
       "      <td>111.42</td>\n",
       "      <td>A_1</td>\n",
       "      <td>True</td>\n",
       "    </tr>\n",
       "    <tr>\n",
       "      <th>1</th>\n",
       "      <td>171.87</td>\n",
       "      <td>104.17</td>\n",
       "      <td>104.13</td>\n",
       "      <td>6.00</td>\n",
       "      <td>3.31</td>\n",
       "      <td>112.09</td>\n",
       "      <td>A_2</td>\n",
       "      <td>True</td>\n",
       "    </tr>\n",
       "    <tr>\n",
       "      <th>2</th>\n",
       "      <td>172.00</td>\n",
       "      <td>104.58</td>\n",
       "      <td>104.29</td>\n",
       "      <td>4.99</td>\n",
       "      <td>3.39</td>\n",
       "      <td>111.57</td>\n",
       "      <td>A_3</td>\n",
       "      <td>True</td>\n",
       "    </tr>\n",
       "    <tr>\n",
       "      <th>3</th>\n",
       "      <td>172.49</td>\n",
       "      <td>104.55</td>\n",
       "      <td>104.34</td>\n",
       "      <td>4.44</td>\n",
       "      <td>3.03</td>\n",
       "      <td>113.20</td>\n",
       "      <td>A_4</td>\n",
       "      <td>False</td>\n",
       "    </tr>\n",
       "    <tr>\n",
       "      <th>4</th>\n",
       "      <td>171.65</td>\n",
       "      <td>103.63</td>\n",
       "      <td>103.56</td>\n",
       "      <td>3.77</td>\n",
       "      <td>3.16</td>\n",
       "      <td>113.33</td>\n",
       "      <td>A_5</td>\n",
       "      <td>False</td>\n",
       "    </tr>\n",
       "  </tbody>\n",
       "</table>\n",
       "</div>"
      ],
      "text/plain": [
       "   diagonal  height_left  height_right  margin_low  margin_up  length   id  \\\n",
       "0    171.76       104.01        103.54        5.21       3.30  111.42  A_1   \n",
       "1    171.87       104.17        104.13        6.00       3.31  112.09  A_2   \n",
       "2    172.00       104.58        104.29        4.99       3.39  111.57  A_3   \n",
       "3    172.49       104.55        104.34        4.44       3.03  113.20  A_4   \n",
       "4    171.65       103.63        103.56        3.77       3.16  113.33  A_5   \n",
       "\n",
       "   is_genuine  \n",
       "0        True  \n",
       "1        True  \n",
       "2        True  \n",
       "3       False  \n",
       "4       False  "
      ]
     },
     "execution_count": 67,
     "metadata": {},
     "output_type": "execute_result"
    }
   ],
   "source": [
    "# Déploiement du modèle (predictions)\n",
    "\n",
    "df['is_genuine'] = model.predict(Z)\n",
    "df"
   ]
  },
  {
   "cell_type": "code",
   "execution_count": 68,
   "id": "4078ac53-a4af-44d5-9714-e23dc81d9609",
   "metadata": {},
   "outputs": [
    {
     "name": "stdout",
     "output_type": "stream",
     "text": [
      "\u001b[1mLes vrais billets sont:\u001b[0m \n",
      "\n",
      "['A_1', 'A_2', 'A_3'] \n",
      "\n",
      "\u001b[1mLes faux billets sont:\u001b[0m \n",
      "\n",
      "['A_4', 'A_5']\n"
     ]
    }
   ],
   "source": [
    "# Sélection des billets authentiques et faux dans le DataFrame \"df\"\n",
    "\n",
    "Vr_billets= df.id[(df.is_genuine==1)]\n",
    "Fx_billets= df.id[(df.is_genuine==0)]\n",
    "\n",
    "# Affichage de la liste des billets authentiques\n",
    "print(\"\\033[1m\" + 'Les vrais billets sont:' + \"\\033[0m\",'\\n')\n",
    "print((Vr_billets.tolist()),'\\n')\n",
    "\n",
    "# Affichage de la liste des billets faux\n",
    "print(\"\\033[1m\" + 'Les faux billets sont:' + \"\\033[0m\",'\\n')\n",
    "print(Fx_billets.tolist())"
   ]
  },
  {
   "cell_type": "markdown",
   "id": "2575ecbe-04ca-4f70-9d88-74bd6f9bd651",
   "metadata": {},
   "source": [
    "# Clustering/Kmeans"
   ]
  },
  {
   "cell_type": "code",
   "execution_count": 69,
   "id": "30a18fc2",
   "metadata": {
    "tags": []
   },
   "outputs": [],
   "source": [
    "target = data.is_genuine\n",
    "data.drop(['is_genuine'], axis=1, inplace = True)"
   ]
  },
  {
   "cell_type": "code",
   "execution_count": 70,
   "id": "64ec8e77",
   "metadata": {},
   "outputs": [],
   "source": [
    "y=target\n",
    "X=data"
   ]
  },
  {
   "cell_type": "markdown",
   "id": "6eb1489f-25ab-4973-9979-906b039c98d9",
   "metadata": {},
   "source": [
    "## Méthodes pour choisir le nombre de clusters"
   ]
  },
  {
   "cell_type": "markdown",
   "id": "a9469777-956f-4e8f-9dce-6587ecc335b9",
   "metadata": {},
   "source": [
    "### Méthode du coefficient de silhouette"
   ]
  },
  {
   "cell_type": "code",
   "execution_count": 71,
   "id": "2a1ac467-3477-4258-a4d4-0731c382ef57",
   "metadata": {},
   "outputs": [
    {
     "name": "stdout",
     "output_type": "stream",
     "text": [
      "For n_clusters = 2, silhouette score is 0.5157380722179677)\n",
      "For n_clusters = 3, silhouette score is 0.3911420255611934)\n",
      "For n_clusters = 4, silhouette score is 0.17332877522839885)\n",
      "For n_clusters = 5, silhouette score is 0.1718742869543092)\n",
      "For n_clusters = 6, silhouette score is 0.15413786272012378)\n",
      "For n_clusters = 7, silhouette score is 0.15311580524479398)\n",
      "For n_clusters = 8, silhouette score is 0.15160662987327014)\n",
      "For n_clusters = 9, silhouette score is 0.15130108811303597)\n"
     ]
    }
   ],
   "source": [
    "WSS = []\n",
    "sil = []\n",
    "# Number of clusters in range 2-10\n",
    "K = list(range(2, 10))\n",
    "for n_clusters in K:\n",
    "    algorithm = (KMeans(n_clusters = n_clusters) )\n",
    "    algorithm.fit(X)\n",
    "    labels = algorithm.labels_\n",
    "    \n",
    "    \n",
    "    preds = algorithm.fit_predict(X)\n",
    "    score = silhouette_score(X, preds)\n",
    "\n",
    "    \n",
    "    sil.append(silhouette_score(X, labels, metric = 'euclidean', random_state=0))\n",
    "    WSS.append(algorithm.inertia_)\n",
    "    print(\"For n_clusters = {}, silhouette score is {})\".format(n_clusters, score))"
   ]
  },
  {
   "cell_type": "markdown",
   "id": "a3b43c90-4cb2-4595-9e1a-32cd10e8a327",
   "metadata": {},
   "source": [
    "La méthode ci-dessus semble indiquer un nombre de clusters optimal de 2, cependant nous ne pouvons avoir n_clusters =1 pour y comparer ce score. Ainsi nous allons utiliser la méthode du coude pour confirmer ou infirmer ce résultat. "
   ]
  },
  {
   "cell_type": "markdown",
   "id": "b58f3686-fe32-46c7-8244-20e4cf34e731",
   "metadata": {},
   "source": [
    "### Méthode du coude"
   ]
  },
  {
   "cell_type": "code",
   "execution_count": 72,
   "id": "04e3e696-64d6-4186-a67c-829bed9f6ead",
   "metadata": {},
   "outputs": [
    {
     "data": {
      "image/png": "[encoded data removed]",
      "text/plain": [
       "<Figure size 640x480 with 1 Axes>"
      ]
     },
     "metadata": {},
     "output_type": "display_data"
    }
   ],
   "source": [
    "# Initialiser une liste pour stocker les valeurs SSE pour chaque nombre de clusters\n",
    "sse = []\n",
    "\n",
    "# Tester différents nombres de clusters\n",
    "for i in range(1, 11):\n",
    "    kmeans = KMeans(n_clusters=i, random_state=0)\n",
    "    kmeans.fit(X)\n",
    "    sse.append(kmeans.inertia_)\n",
    "\n",
    "# Tracer le graphique en utilisant matplotlib\n",
    "plt.plot(range(1, 11), sse)\n",
    "plt.xlabel(\"Nombre de clusters\")\n",
    "plt.ylabel(\"SSE\")\n",
    "plt.show()"
   ]
  },
  {
   "cell_type": "markdown",
   "id": "e5f4ade9-caf3-4c42-b6e5-06befa2cc358",
   "metadata": {},
   "source": [
    "La méthode nous indique que la **valeur optimale de clusters** pour notre algorithme Kmeans est bien de **2**. "
   ]
  },
  {
   "cell_type": "markdown",
   "id": "fdf6a036-8bdf-4061-b222-ae3b8645ee03",
   "metadata": {},
   "source": [
    "## Mise en place du modèle (Kmeans)"
   ]
  },
  {
   "cell_type": "code",
   "execution_count": 73,
   "id": "ed3fb641-1d22-4553-8002-34ba9c256d78",
   "metadata": {},
   "outputs": [],
   "source": [
    "# Création du modèle (k=2, 2 clusters)\n",
    "\n",
    "model_2 = KMeans(n_clusters=2, max_iter=600, algorithm = 'auto', random_state=0).fit(X)"
   ]
  },
  {
   "cell_type": "code",
   "execution_count": 74,
   "id": "762d821b",
   "metadata": {},
   "outputs": [],
   "source": [
    "y = y.astype(int)"
   ]
  },
  {
   "cell_type": "code",
   "execution_count": 75,
   "id": "4a7f7f45-3dc7-49c4-85c1-e8320dd4cfa9",
   "metadata": {},
   "outputs": [
    {
     "name": "stdout",
     "output_type": "stream",
     "text": [
      "      actual  prediction\n",
      "0          0           0\n",
      "1          0           0\n",
      "2          0           0\n",
      "3          0           0\n",
      "4          0           0\n",
      "...      ...         ...\n",
      "1495       1           1\n",
      "1496       1           1\n",
      "1497       1           1\n",
      "1498       1           1\n",
      "1499       1           1\n",
      "\n",
      "[1500 rows x 2 columns]\n"
     ]
    }
   ],
   "source": [
    "predictions_2 = model_2.predict(X)\n",
    "\n",
    "pred_data = pd.DataFrame({'actual':y, 'prediction':predictions_2})\n",
    "print(pred_data)"
   ]
  },
  {
   "cell_type": "code",
   "execution_count": 76,
   "id": "f825ed54-dad1-4e93-b0d8-52c4f90c9db7",
   "metadata": {},
   "outputs": [],
   "source": [
    "model_2.labels_ = model_2.labels_"
   ]
  },
  {
   "cell_type": "code",
   "execution_count": 77,
   "id": "2ceb7f6e-81cf-4dd5-bed3-d57e5965682c",
   "metadata": {},
   "outputs": [
    {
     "data": {
      "text/html": [
       "<div>\n",
       "<style scoped>\n",
       "    .dataframe tbody tr th:only-of-type {\n",
       "        vertical-align: middle;\n",
       "    }\n",
       "\n",
       "    .dataframe tbody tr th {\n",
       "        vertical-align: top;\n",
       "    }\n",
       "\n",
       "    .dataframe thead th {\n",
       "        text-align: right;\n",
       "    }\n",
       "</style>\n",
       "<table border=\"1\" class=\"dataframe\">\n",
       "  <thead>\n",
       "    <tr style=\"text-align: right;\">\n",
       "      <th></th>\n",
       "      <th></th>\n",
       "    </tr>\n",
       "    <tr>\n",
       "      <th>prediction</th>\n",
       "      <th></th>\n",
       "    </tr>\n",
       "  </thead>\n",
       "  <tbody>\n",
       "    <tr>\n",
       "      <th>0</th>\n",
       "      <td>1017</td>\n",
       "    </tr>\n",
       "    <tr>\n",
       "      <th>1</th>\n",
       "      <td>483</td>\n",
       "    </tr>\n",
       "  </tbody>\n",
       "</table>\n",
       "</div>"
      ],
      "text/plain": [
       "                \n",
       "prediction      \n",
       "0           1017\n",
       "1            483"
      ]
     },
     "execution_count": 77,
     "metadata": {},
     "output_type": "execute_result"
    }
   ],
   "source": [
    "# Nombre d'observations dans chaque cluster\n",
    "\n",
    "pred_data['prediction'] = model_2.labels_\n",
    "clusters=pred_data.groupby('prediction').count()\n",
    "clusters.columns = [''] * len(clusters.columns)\n",
    "clusters"
   ]
  },
  {
   "cell_type": "code",
   "execution_count": 78,
   "id": "245c339f-9f80-4e6b-a160-63dbd4ac49ad",
   "metadata": {},
   "outputs": [
    {
     "data": {
      "text/plain": [
       "0    1000\n",
       "1     500\n",
       "Name: is_genuine, dtype: int64"
      ]
     },
     "execution_count": 78,
     "metadata": {},
     "output_type": "execute_result"
    }
   ],
   "source": [
    "y.value_counts()"
   ]
  },
  {
   "cell_type": "markdown",
   "id": "7ab4816a-ba52-4621-8286-6a68774a2560",
   "metadata": {},
   "source": [
    "## Evaluation du modèle et Matrice de confusion"
   ]
  },
  {
   "cell_type": "code",
   "execution_count": 79,
   "id": "795ec50d-be1d-4e4b-bfb0-f72bd6548647",
   "metadata": {},
   "outputs": [
    {
     "name": "stdout",
     "output_type": "stream",
     "text": [
      "Indice de silhouette : 0.52\n"
     ]
    }
   ],
   "source": [
    "# Evaluation du modèle\n",
    "\n",
    "silhouette = silhouette_score(X, model_2.labels_)\n",
    "print(f\"Indice de silhouette : {silhouette:.2f}\")"
   ]
  },
  {
   "cell_type": "code",
   "execution_count": 80,
   "id": "c8c5514d-2d93-4402-a67f-c8bd625e5eb6",
   "metadata": {},
   "outputs": [
    {
     "name": "stdout",
     "output_type": "stream",
     "text": [
      "DB index:  0.7806633637519266\n"
     ]
    }
   ],
   "source": [
    "# Calculer DB index\n",
    "\n",
    "db = davies_bouldin_score(X, model_2.labels_)\n",
    "print(\"DB index: \", db)"
   ]
  },
  {
   "cell_type": "code",
   "execution_count": 81,
   "id": "7c2e5829-d5f1-4f58-9c0b-657cd6e8f0e8",
   "metadata": {},
   "outputs": [
    {
     "name": "stdout",
     "output_type": "stream",
     "text": [
      "Calinski-Harabasz index:  2067.9274948975512\n"
     ]
    }
   ],
   "source": [
    "# Calculer Calinski-Harabasz index\n",
    "\n",
    "ch = calinski_harabasz_score(X, model_2.labels_)\n",
    "print(\"Calinski-Harabasz index: \", ch)"
   ]
  },
  {
   "cell_type": "markdown",
   "id": "ea3643a3-a00b-4699-bb54-79b58b8c7808",
   "metadata": {},
   "source": [
    "Les trois méthodes ci-dessus nous ont permis d'établir que l'algorithme de clustering Kmeans que nous utilisons ici est plus performant avec des données non standardisées (moins bonne performance avec des données standardisés), d'autant que de par la nature et l'objectif du Kmeans (regrouper des points de données similaires ensemble dans des clusters), il vaut mieux privilégier sa performance que sa précision (meilleure ici avec les données standardisées)."
   ]
  },
  {
   "cell_type": "code",
   "execution_count": 82,
   "id": "d0ea59fc-5e23-461b-bc79-234a8da90df7",
   "metadata": {},
   "outputs": [
    {
     "name": "stdout",
     "output_type": "stream",
     "text": [
      "Matrice de confusion:\n",
      "[[998   2]\n",
      " [ 19 481]]\n"
     ]
    }
   ],
   "source": [
    "# Calcul de la matrice de confusion\n",
    "\n",
    "cm_2=confusion_matrix(y, predictions_2, labels=[0,1])\n",
    "print('Matrice de confusion:')\n",
    "print(cm_2)"
   ]
  },
  {
   "cell_type": "code",
   "execution_count": 83,
   "id": "3a3b73cd-a00f-4d5a-b766-a5ff108b70f3",
   "metadata": {},
   "outputs": [
    {
     "data": {
      "image/png": "[encoded data removed]",
      "text/plain": [
       "<Figure size 640x480 with 2 Axes>"
      ]
     },
     "metadata": {},
     "output_type": "display_data"
    }
   ],
   "source": [
    "# Représentation graphique de la matrice de confusion\n",
    "\n",
    "sns.heatmap(cm_2,cmap=\"Blues\", annot=cm_2, fmt=\"\", yticklabels=['Vrai', 'Faux'])\n",
    "\n",
    "plt.ylabel(\"Actual\")\n",
    "plt.xlabel(\"Groupe\")\n",
    "plt.title('Matrice de confusion', pad=25)\n",
    "plt.show()"
   ]
  },
  {
   "cell_type": "code",
   "execution_count": 84,
   "id": "f5e343c5-c168-486f-b955-7b4a550108ad",
   "metadata": {},
   "outputs": [
    {
     "data": {
      "image/png": "[encoded data removed]",
      "text/plain": [
       "<Figure size 640x480 with 1 Axes>"
      ]
     },
     "metadata": {},
     "output_type": "display_data"
    }
   ],
   "source": [
    "plt.scatter(X.iloc[:,0], X.iloc[:,1], c=predictions_2, s=50, cmap='viridis')\n",
    "\n",
    "centers = model_2.cluster_centers_\n",
    "plt.scatter(centers[:, 0], centers[:, 1], c='k', s=200, alpha=0.5);\n"
   ]
  },
  {
   "cell_type": "markdown",
   "id": "a71020ab-cdd6-4d3e-8e8d-e34325dbec0d",
   "metadata": {},
   "source": [
    "## Test de déploiement (Application du  2nd modèle sur un fichier distinct) & résultats"
   ]
  },
  {
   "cell_type": "code",
   "execution_count": 85,
   "id": "6e79985e-b153-4044-b5b6-91330846a243",
   "metadata": {},
   "outputs": [
    {
     "data": {
      "text/html": [
       "<div>\n",
       "<style scoped>\n",
       "    .dataframe tbody tr th:only-of-type {\n",
       "        vertical-align: middle;\n",
       "    }\n",
       "\n",
       "    .dataframe tbody tr th {\n",
       "        vertical-align: top;\n",
       "    }\n",
       "\n",
       "    .dataframe thead th {\n",
       "        text-align: right;\n",
       "    }\n",
       "</style>\n",
       "<table border=\"1\" class=\"dataframe\">\n",
       "  <thead>\n",
       "    <tr style=\"text-align: right;\">\n",
       "      <th></th>\n",
       "      <th>diagonal</th>\n",
       "      <th>height_left</th>\n",
       "      <th>height_right</th>\n",
       "      <th>margin_low</th>\n",
       "      <th>margin_up</th>\n",
       "      <th>length</th>\n",
       "      <th>id</th>\n",
       "    </tr>\n",
       "  </thead>\n",
       "  <tbody>\n",
       "    <tr>\n",
       "      <th>0</th>\n",
       "      <td>171.76</td>\n",
       "      <td>104.01</td>\n",
       "      <td>103.54</td>\n",
       "      <td>5.21</td>\n",
       "      <td>3.30</td>\n",
       "      <td>111.42</td>\n",
       "      <td>A_1</td>\n",
       "    </tr>\n",
       "    <tr>\n",
       "      <th>1</th>\n",
       "      <td>171.87</td>\n",
       "      <td>104.17</td>\n",
       "      <td>104.13</td>\n",
       "      <td>6.00</td>\n",
       "      <td>3.31</td>\n",
       "      <td>112.09</td>\n",
       "      <td>A_2</td>\n",
       "    </tr>\n",
       "    <tr>\n",
       "      <th>2</th>\n",
       "      <td>172.00</td>\n",
       "      <td>104.58</td>\n",
       "      <td>104.29</td>\n",
       "      <td>4.99</td>\n",
       "      <td>3.39</td>\n",
       "      <td>111.57</td>\n",
       "      <td>A_3</td>\n",
       "    </tr>\n",
       "    <tr>\n",
       "      <th>3</th>\n",
       "      <td>172.49</td>\n",
       "      <td>104.55</td>\n",
       "      <td>104.34</td>\n",
       "      <td>4.44</td>\n",
       "      <td>3.03</td>\n",
       "      <td>113.20</td>\n",
       "      <td>A_4</td>\n",
       "    </tr>\n",
       "    <tr>\n",
       "      <th>4</th>\n",
       "      <td>171.65</td>\n",
       "      <td>103.63</td>\n",
       "      <td>103.56</td>\n",
       "      <td>3.77</td>\n",
       "      <td>3.16</td>\n",
       "      <td>113.33</td>\n",
       "      <td>A_5</td>\n",
       "    </tr>\n",
       "  </tbody>\n",
       "</table>\n",
       "</div>"
      ],
      "text/plain": [
       "   diagonal  height_left  height_right  margin_low  margin_up  length   id\n",
       "0    171.76       104.01        103.54        5.21       3.30  111.42  A_1\n",
       "1    171.87       104.17        104.13        6.00       3.31  112.09  A_2\n",
       "2    172.00       104.58        104.29        4.99       3.39  111.57  A_3\n",
       "3    172.49       104.55        104.34        4.44       3.03  113.20  A_4\n",
       "4    171.65       103.63        103.56        3.77       3.16  113.33  A_5"
      ]
     },
     "execution_count": 85,
     "metadata": {},
     "output_type": "execute_result"
    }
   ],
   "source": [
    "# Lecture du fichier\n",
    "\n",
    "df_K = pd.read_csv('billets_production.csv')\n",
    "df_K"
   ]
  },
  {
   "cell_type": "code",
   "execution_count": 86,
   "id": "39d9f3c2-e1c3-4d1a-80c4-b5e15ba1ecfd",
   "metadata": {},
   "outputs": [],
   "source": [
    "W = df_K.iloc[:,:-1]"
   ]
  },
  {
   "cell_type": "code",
   "execution_count": 87,
   "id": "219b2e46-f9ef-48b5-ba2d-83d37cabcec0",
   "metadata": {},
   "outputs": [
    {
     "data": {
      "text/html": [
       "<div>\n",
       "<style scoped>\n",
       "    .dataframe tbody tr th:only-of-type {\n",
       "        vertical-align: middle;\n",
       "    }\n",
       "\n",
       "    .dataframe tbody tr th {\n",
       "        vertical-align: top;\n",
       "    }\n",
       "\n",
       "    .dataframe thead th {\n",
       "        text-align: right;\n",
       "    }\n",
       "</style>\n",
       "<table border=\"1\" class=\"dataframe\">\n",
       "  <thead>\n",
       "    <tr style=\"text-align: right;\">\n",
       "      <th></th>\n",
       "      <th>diagonal</th>\n",
       "      <th>height_left</th>\n",
       "      <th>height_right</th>\n",
       "      <th>margin_low</th>\n",
       "      <th>margin_up</th>\n",
       "      <th>length</th>\n",
       "      <th>id</th>\n",
       "      <th>is_genuine</th>\n",
       "    </tr>\n",
       "  </thead>\n",
       "  <tbody>\n",
       "    <tr>\n",
       "      <th>0</th>\n",
       "      <td>171.76</td>\n",
       "      <td>104.01</td>\n",
       "      <td>103.54</td>\n",
       "      <td>5.21</td>\n",
       "      <td>3.30</td>\n",
       "      <td>111.42</td>\n",
       "      <td>A_1</td>\n",
       "      <td>1</td>\n",
       "    </tr>\n",
       "    <tr>\n",
       "      <th>1</th>\n",
       "      <td>171.87</td>\n",
       "      <td>104.17</td>\n",
       "      <td>104.13</td>\n",
       "      <td>6.00</td>\n",
       "      <td>3.31</td>\n",
       "      <td>112.09</td>\n",
       "      <td>A_2</td>\n",
       "      <td>1</td>\n",
       "    </tr>\n",
       "    <tr>\n",
       "      <th>2</th>\n",
       "      <td>172.00</td>\n",
       "      <td>104.58</td>\n",
       "      <td>104.29</td>\n",
       "      <td>4.99</td>\n",
       "      <td>3.39</td>\n",
       "      <td>111.57</td>\n",
       "      <td>A_3</td>\n",
       "      <td>1</td>\n",
       "    </tr>\n",
       "    <tr>\n",
       "      <th>3</th>\n",
       "      <td>172.49</td>\n",
       "      <td>104.55</td>\n",
       "      <td>104.34</td>\n",
       "      <td>4.44</td>\n",
       "      <td>3.03</td>\n",
       "      <td>113.20</td>\n",
       "      <td>A_4</td>\n",
       "      <td>0</td>\n",
       "    </tr>\n",
       "    <tr>\n",
       "      <th>4</th>\n",
       "      <td>171.65</td>\n",
       "      <td>103.63</td>\n",
       "      <td>103.56</td>\n",
       "      <td>3.77</td>\n",
       "      <td>3.16</td>\n",
       "      <td>113.33</td>\n",
       "      <td>A_5</td>\n",
       "      <td>0</td>\n",
       "    </tr>\n",
       "  </tbody>\n",
       "</table>\n",
       "</div>"
      ],
      "text/plain": [
       "   diagonal  height_left  height_right  margin_low  margin_up  length   id  \\\n",
       "0    171.76       104.01        103.54        5.21       3.30  111.42  A_1   \n",
       "1    171.87       104.17        104.13        6.00       3.31  112.09  A_2   \n",
       "2    172.00       104.58        104.29        4.99       3.39  111.57  A_3   \n",
       "3    172.49       104.55        104.34        4.44       3.03  113.20  A_4   \n",
       "4    171.65       103.63        103.56        3.77       3.16  113.33  A_5   \n",
       "\n",
       "   is_genuine  \n",
       "0           1  \n",
       "1           1  \n",
       "2           1  \n",
       "3           0  \n",
       "4           0  "
      ]
     },
     "execution_count": 87,
     "metadata": {},
     "output_type": "execute_result"
    }
   ],
   "source": [
    "# Déploiement du modèle (predictions)\n",
    "\n",
    "df_K['is_genuine'] = model_2.predict(W)\n",
    "df_K"
   ]
  },
  {
   "cell_type": "code",
   "execution_count": 88,
   "id": "ce0ecc1c-f6a7-4fcc-a4f3-bf41caa9c191",
   "metadata": {},
   "outputs": [
    {
     "name": "stdout",
     "output_type": "stream",
     "text": [
      "\u001b[1mLes billets du groupe 0 sont:\u001b[0m \n",
      "\n",
      "['A_4', 'A_5'] \n",
      "\n",
      "\u001b[1mLes billets du groupe 1 sont:\u001b[0m \n",
      "\n",
      "['A_1', 'A_2', 'A_3']\n"
     ]
    }
   ],
   "source": [
    "# Sélection des billets authentiques et faux dans le DataFrame \"df\"\n",
    "\n",
    "Groupe_1= df_K.id[(df.is_genuine==1)]\n",
    "Groupe_0= df_K.id[(df.is_genuine==0)]\n",
    "\n",
    "# Affichage de la liste groupe 0\n",
    "print(\"\\033[1m\" + 'Les billets du groupe 0 sont:' + \"\\033[0m\",'\\n')\n",
    "print((Groupe_0.tolist()),'\\n')\n",
    "\n",
    "# Affichage de la liste groupe 1\n",
    "print(\"\\033[1m\" + 'Les billets du groupe 1 sont:' + \"\\033[0m\",'\\n')\n",
    "print(Groupe_1.tolist())"
   ]
  },
  {
   "cell_type": "markdown",
   "id": "c05761ba-0e3c-4990-a16f-46fdf10d6771",
   "metadata": {},
   "source": [
    "# Test Direct (Fonctions)\n",
    "\n",
    "Nous avons ici construit les fonctions pour les différents modèles et avons mis en appel de fonction le fichier billets_production dans l'attente du fichier des données à tester."
   ]
  },
  {
   "cell_type": "markdown",
   "id": "f9ef1ba0-fc8c-4ff6-9dd0-ed05e714642a",
   "metadata": {},
   "source": [
    "## Avec Regression logistique"
   ]
  },
  {
   "cell_type": "code",
   "execution_count": 89,
   "id": "cf03ad3c-bb9e-4439-ab7e-dc13416a3130",
   "metadata": {},
   "outputs": [],
   "source": [
    "# Fonction\n",
    "\n",
    "def detecteur(file_path):\n",
    "    direct = pd.read_csv(file_path)\n",
    "    A = direct[variables_significatives] # Données de déploiement\n",
    "    scaler = StandardScaler()\n",
    "    A_scaled = scaler.fit_transform(A)\n",
    "    direct['is_genuine'] = model.predict(A_scaled)\n",
    "    direct['probabilité_d__authenticité'] = model.predict_proba(A_scaled)[:,1]\n",
    "    last_three_cols = pd.DataFrame(direct.iloc[:,-3:]).T\n",
    "    direct.index += 1\n",
    "    Vrai_billets = direct[(direct.is_genuine==1)]['id'].tolist()\n",
    "    Faux_billets = direct[(direct.is_genuine==0)]['id'].tolist()\n",
    "    print(\"\\033[1m\" + 'Les vrais billets sont:' + \"\\033[0m\",'\\n')\n",
    "    print(Vrai_billets,'\\n')\n",
    "    print(\"\\033[1m\" + 'Les faux billets sont:' + \"\\033[0m\",'\\n')\n",
    "    print(Faux_billets, '\\n')\n",
    "    return last_three_cols"
   ]
  },
  {
   "cell_type": "code",
   "execution_count": 90,
   "id": "0ddf460c-5bc3-4460-84dc-3e9a50273509",
   "metadata": {},
   "outputs": [
    {
     "name": "stdout",
     "output_type": "stream",
     "text": [
      "\u001b[1mLes vrais billets sont:\u001b[0m \n",
      "\n",
      "['B_2', 'B_4', 'B_5'] \n",
      "\n",
      "\u001b[1mLes faux billets sont:\u001b[0m \n",
      "\n",
      "['B_1', 'B_3'] \n",
      "\n"
     ]
    },
    {
     "data": {
      "text/html": [
       "<div>\n",
       "<style scoped>\n",
       "    .dataframe tbody tr th:only-of-type {\n",
       "        vertical-align: middle;\n",
       "    }\n",
       "\n",
       "    .dataframe tbody tr th {\n",
       "        vertical-align: top;\n",
       "    }\n",
       "\n",
       "    .dataframe thead th {\n",
       "        text-align: right;\n",
       "    }\n",
       "</style>\n",
       "<table border=\"1\" class=\"dataframe\">\n",
       "  <thead>\n",
       "    <tr style=\"text-align: right;\">\n",
       "      <th></th>\n",
       "      <th>0</th>\n",
       "      <th>1</th>\n",
       "      <th>2</th>\n",
       "      <th>3</th>\n",
       "      <th>4</th>\n",
       "    </tr>\n",
       "  </thead>\n",
       "  <tbody>\n",
       "    <tr>\n",
       "      <th>id</th>\n",
       "      <td>B_1</td>\n",
       "      <td>B_2</td>\n",
       "      <td>B_3</td>\n",
       "      <td>B_4</td>\n",
       "      <td>B_5</td>\n",
       "    </tr>\n",
       "    <tr>\n",
       "      <th>is_genuine</th>\n",
       "      <td>False</td>\n",
       "      <td>True</td>\n",
       "      <td>False</td>\n",
       "      <td>True</td>\n",
       "      <td>True</td>\n",
       "    </tr>\n",
       "    <tr>\n",
       "      <th>probabilité_d__authenticité</th>\n",
       "      <td>0.000054</td>\n",
       "      <td>0.871056</td>\n",
       "      <td>0.000032</td>\n",
       "      <td>0.999793</td>\n",
       "      <td>0.562726</td>\n",
       "    </tr>\n",
       "  </tbody>\n",
       "</table>\n",
       "</div>"
      ],
      "text/plain": [
       "                                    0         1         2         3         4\n",
       "id                                B_1       B_2       B_3       B_4       B_5\n",
       "is_genuine                      False      True     False      True      True\n",
       "probabilité_d__authenticité  0.000054  0.871056  0.000032  0.999793  0.562726"
      ]
     },
     "execution_count": 90,
     "metadata": {},
     "output_type": "execute_result"
    }
   ],
   "source": [
    "# Appel de la fonction\n",
    "\n",
    "detecteur('billets_test.csv')"
   ]
  },
  {
   "cell_type": "markdown",
   "id": "7e6472d2-55f7-4675-83e7-4b1088e202de",
   "metadata": {},
   "source": [
    "## Avec Kmeans"
   ]
  },
  {
   "cell_type": "code",
   "execution_count": 91,
   "id": "beb3e125-6732-4235-8b2a-3c69b518a5b8",
   "metadata": {},
   "outputs": [],
   "source": [
    "# Fonction\n",
    "\n",
    "def detecteur_2(file_path):\n",
    "    direct = pd.read_csv(file_path)\n",
    "    A = direct.iloc[:,:-1] # Données de déploiement\n",
    "    direct['groupe'] = model_2.predict(A)\n",
    "    Groupe_1 = direct[(direct.groupe==1)]['id'].tolist()\n",
    "    Groupe_0 = direct[(direct.groupe==0)]['id'].tolist()\n",
    "    last_two_cols = pd.DataFrame(direct.iloc[:,-2:]).T\n",
    "    print(\"\\033[1m\" + 'Les billets du groupe 0 sont:' + \"\\033[0m\",'\\n')\n",
    "    print((Groupe_0),'\\n')\n",
    "    print(\"\\033[1m\" + 'Les billets du groupe 1 sont:' + \"\\033[0m\",'\\n')\n",
    "    print(Groupe_1, '\\n')\n",
    "    return last_two_cols"
   ]
  },
  {
   "cell_type": "code",
   "execution_count": 92,
   "id": "87a8dc40-a420-4888-91c9-09d5bd71f44d",
   "metadata": {},
   "outputs": [
    {
     "name": "stdout",
     "output_type": "stream",
     "text": [
      "\u001b[1mLes billets du groupe 0 sont:\u001b[0m \n",
      "\n",
      "['B_1', 'B_3'] \n",
      "\n",
      "\u001b[1mLes billets du groupe 1 sont:\u001b[0m \n",
      "\n",
      "['B_2', 'B_4', 'B_5'] \n",
      "\n"
     ]
    },
    {
     "data": {
      "text/html": [
       "<div>\n",
       "<style scoped>\n",
       "    .dataframe tbody tr th:only-of-type {\n",
       "        vertical-align: middle;\n",
       "    }\n",
       "\n",
       "    .dataframe tbody tr th {\n",
       "        vertical-align: top;\n",
       "    }\n",
       "\n",
       "    .dataframe thead th {\n",
       "        text-align: right;\n",
       "    }\n",
       "</style>\n",
       "<table border=\"1\" class=\"dataframe\">\n",
       "  <thead>\n",
       "    <tr style=\"text-align: right;\">\n",
       "      <th></th>\n",
       "      <th>0</th>\n",
       "      <th>1</th>\n",
       "      <th>2</th>\n",
       "      <th>3</th>\n",
       "      <th>4</th>\n",
       "    </tr>\n",
       "  </thead>\n",
       "  <tbody>\n",
       "    <tr>\n",
       "      <th>id</th>\n",
       "      <td>B_1</td>\n",
       "      <td>B_2</td>\n",
       "      <td>B_3</td>\n",
       "      <td>B_4</td>\n",
       "      <td>B_5</td>\n",
       "    </tr>\n",
       "    <tr>\n",
       "      <th>groupe</th>\n",
       "      <td>0</td>\n",
       "      <td>1</td>\n",
       "      <td>0</td>\n",
       "      <td>1</td>\n",
       "      <td>1</td>\n",
       "    </tr>\n",
       "  </tbody>\n",
       "</table>\n",
       "</div>"
      ],
      "text/plain": [
       "          0    1    2    3    4\n",
       "id      B_1  B_2  B_3  B_4  B_5\n",
       "groupe    0    1    0    1    1"
      ]
     },
     "execution_count": 92,
     "metadata": {},
     "output_type": "execute_result"
    }
   ],
   "source": [
    "# Appel de la fonction\n",
    "\n",
    "detecteur_2('billets_test.csv')"
   ]
  },
  {
   "cell_type": "code",
   "execution_count": null,
   "id": "ebae1a18-07e3-4ab7-97db-38bd0c9415c7",
   "metadata": {},
   "outputs": [],
   "source": []
  }
 ],
 "metadata": {
  "kernelspec": {
   "display_name": "Python 3 (ipykernel)",
   "language": "python",
   "name": "python3"
  },
  "language_info": {
   "codemirror_mode": {
    "name": "ipython",
    "version": 3
   },
   "file_extension": ".py",
   "mimetype": "text/x-python",
   "name": "python",
   "nbconvert_exporter": "python",
   "pygments_lexer": "ipython3",
   "version": "3.9.13"
  },
  "toc": {
   "base_numbering": "1",
   "nav_menu": {},
   "number_sections": true,
   "sideBar": true,
   "skip_h1_title": false,
   "title_cell": "Table des matières",
   "title_sidebar": "Contents",
   "toc_cell": true,
   "toc_position": {
    "height": "calc(100% - 180px)",
    "left": "10px",
    "top": "150px",
    "width": "281.6px"
   },
   "toc_section_display": true,
   "toc_window_display": true
  },
  "toc-autonumbering": true,
  "toc-showcode": false,
  "toc-showmarkdowntxt": false,
  "toc-showtags": false
 },
 "nbformat": 4,
 "nbformat_minor": 5
}
